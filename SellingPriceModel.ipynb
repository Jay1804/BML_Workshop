{
  "nbformat": 4,
  "nbformat_minor": 0,
  "metadata": {
    "kernelspec": {
      "display_name": "Python 3",
      "language": "python",
      "name": "python3"
    },
    "language_info": {
      "codemirror_mode": {
        "name": "ipython",
        "version": 3
      },
      "file_extension": ".py",
      "mimetype": "text/x-python",
      "name": "python",
      "nbconvert_exporter": "python",
      "pygments_lexer": "ipython3",
      "version": "3.7.3"
    },
    "colab": {
      "name": "SellingPriceModel.ipynb",
      "provenance": []
    }
  },
  "cells": [
    {
      "cell_type": "code",
      "metadata": {
        "id": "PCm5YmTreK7V"
      },
      "source": [
        "import re\n",
        "import pandas as pd\n",
        "import seaborn as sns #visualization library\n",
        "import missingno as msno #Tracks missing values\n",
        "import numpy as np\n",
        "import matplotlib.pyplot as plt #visualization library\n",
        "import datetime\n",
        "import pickle #dumps the model in pickle format\n",
        "\n",
        "import sklearn\n",
        "from sklearn.impute import SimpleImputer #Imputes missing values with strategy modes like mean,median,mode\n",
        "from sklearn.linear_model import LinearRegression\n",
        "from sklearn.ensemble import GradientBoostingRegressor,RandomForestRegressor\n",
        "from sklearn.model_selection import train_test_split,cross_val_score\n",
        "from sklearn.metrics import r2_score,mean_squared_error\n",
        "from sklearn.feature_selection import SelectKBest,chi2,f_regression,SelectPercentile\n",
        "from sklearn.preprocessing import StandardScaler,MinMaxScaler #Scaling the data\n",
        "\n",
        "pd.options.mode.chained_assignment = None\n",
        "now = datetime.datetime.now()"
      ],
      "execution_count": 1,
      "outputs": []
    },
    {
      "cell_type": "code",
      "metadata": {
        "id": "-bUr3QfteK7c"
      },
      "source": [
        "df = pd.read_csv('https://raw.githubusercontent.com/ravirajdasari/datasets/main/Car%20details%20v3.csv')"
      ],
      "execution_count": 2,
      "outputs": []
    },
    {
      "cell_type": "code",
      "metadata": {
        "colab": {
          "base_uri": "https://localhost:8080/",
          "height": 289
        },
        "id": "rVQxciJ1eK7d",
        "outputId": "af8ac78b-e95c-411d-e815-0b165cd42115"
      },
      "source": [
        "df.head()"
      ],
      "execution_count": 3,
      "outputs": [
        {
          "output_type": "execute_result",
          "data": {
            "text/html": [
              "<div>\n",
              "<style scoped>\n",
              "    .dataframe tbody tr th:only-of-type {\n",
              "        vertical-align: middle;\n",
              "    }\n",
              "\n",
              "    .dataframe tbody tr th {\n",
              "        vertical-align: top;\n",
              "    }\n",
              "\n",
              "    .dataframe thead th {\n",
              "        text-align: right;\n",
              "    }\n",
              "</style>\n",
              "<table border=\"1\" class=\"dataframe\">\n",
              "  <thead>\n",
              "    <tr style=\"text-align: right;\">\n",
              "      <th></th>\n",
              "      <th>name</th>\n",
              "      <th>year</th>\n",
              "      <th>selling_price</th>\n",
              "      <th>km_driven</th>\n",
              "      <th>fuel</th>\n",
              "      <th>seller_type</th>\n",
              "      <th>transmission</th>\n",
              "      <th>owner</th>\n",
              "      <th>mileage</th>\n",
              "      <th>engine</th>\n",
              "      <th>max_power</th>\n",
              "      <th>torque</th>\n",
              "      <th>seats</th>\n",
              "    </tr>\n",
              "  </thead>\n",
              "  <tbody>\n",
              "    <tr>\n",
              "      <th>0</th>\n",
              "      <td>Maruti Swift Dzire VDI</td>\n",
              "      <td>2014</td>\n",
              "      <td>450000</td>\n",
              "      <td>145500</td>\n",
              "      <td>Diesel</td>\n",
              "      <td>Individual</td>\n",
              "      <td>Manual</td>\n",
              "      <td>First Owner</td>\n",
              "      <td>23.4 kmpl</td>\n",
              "      <td>1248 CC</td>\n",
              "      <td>74 bhp</td>\n",
              "      <td>190Nm@ 2000rpm</td>\n",
              "      <td>5.0</td>\n",
              "    </tr>\n",
              "    <tr>\n",
              "      <th>1</th>\n",
              "      <td>Skoda Rapid 1.5 TDI Ambition</td>\n",
              "      <td>2014</td>\n",
              "      <td>370000</td>\n",
              "      <td>120000</td>\n",
              "      <td>Diesel</td>\n",
              "      <td>Individual</td>\n",
              "      <td>Manual</td>\n",
              "      <td>Second Owner</td>\n",
              "      <td>21.14 kmpl</td>\n",
              "      <td>1498 CC</td>\n",
              "      <td>103.52 bhp</td>\n",
              "      <td>250Nm@ 1500-2500rpm</td>\n",
              "      <td>5.0</td>\n",
              "    </tr>\n",
              "    <tr>\n",
              "      <th>2</th>\n",
              "      <td>Honda City 2017-2020 EXi</td>\n",
              "      <td>2006</td>\n",
              "      <td>158000</td>\n",
              "      <td>140000</td>\n",
              "      <td>Petrol</td>\n",
              "      <td>Individual</td>\n",
              "      <td>Manual</td>\n",
              "      <td>Third Owner</td>\n",
              "      <td>17.7 kmpl</td>\n",
              "      <td>1497 CC</td>\n",
              "      <td>78 bhp</td>\n",
              "      <td>12.7@ 2,700(kgm@ rpm)</td>\n",
              "      <td>5.0</td>\n",
              "    </tr>\n",
              "    <tr>\n",
              "      <th>3</th>\n",
              "      <td>Hyundai i20 Sportz Diesel</td>\n",
              "      <td>2010</td>\n",
              "      <td>225000</td>\n",
              "      <td>127000</td>\n",
              "      <td>Diesel</td>\n",
              "      <td>Individual</td>\n",
              "      <td>Manual</td>\n",
              "      <td>First Owner</td>\n",
              "      <td>23.0 kmpl</td>\n",
              "      <td>1396 CC</td>\n",
              "      <td>90 bhp</td>\n",
              "      <td>22.4 kgm at 1750-2750rpm</td>\n",
              "      <td>5.0</td>\n",
              "    </tr>\n",
              "    <tr>\n",
              "      <th>4</th>\n",
              "      <td>Maruti Swift VXI BSIII</td>\n",
              "      <td>2007</td>\n",
              "      <td>130000</td>\n",
              "      <td>120000</td>\n",
              "      <td>Petrol</td>\n",
              "      <td>Individual</td>\n",
              "      <td>Manual</td>\n",
              "      <td>First Owner</td>\n",
              "      <td>16.1 kmpl</td>\n",
              "      <td>1298 CC</td>\n",
              "      <td>88.2 bhp</td>\n",
              "      <td>11.5@ 4,500(kgm@ rpm)</td>\n",
              "      <td>5.0</td>\n",
              "    </tr>\n",
              "  </tbody>\n",
              "</table>\n",
              "</div>"
            ],
            "text/plain": [
              "                           name  year  ...                    torque  seats\n",
              "0        Maruti Swift Dzire VDI  2014  ...            190Nm@ 2000rpm    5.0\n",
              "1  Skoda Rapid 1.5 TDI Ambition  2014  ...       250Nm@ 1500-2500rpm    5.0\n",
              "2      Honda City 2017-2020 EXi  2006  ...     12.7@ 2,700(kgm@ rpm)    5.0\n",
              "3     Hyundai i20 Sportz Diesel  2010  ...  22.4 kgm at 1750-2750rpm    5.0\n",
              "4        Maruti Swift VXI BSIII  2007  ...     11.5@ 4,500(kgm@ rpm)    5.0\n",
              "\n",
              "[5 rows x 13 columns]"
            ]
          },
          "metadata": {
            "tags": []
          },
          "execution_count": 3
        }
      ]
    },
    {
      "cell_type": "code",
      "metadata": {
        "colab": {
          "base_uri": "https://localhost:8080/",
          "height": 636
        },
        "id": "tdXPMpkReK7e",
        "outputId": "53f030f4-e067-4e2c-a03c-f21e531d7f00"
      },
      "source": [
        "msno.bar(df)"
      ],
      "execution_count": 4,
      "outputs": [
        {
          "output_type": "execute_result",
          "data": {
            "text/plain": [
              "<matplotlib.axes._subplots.AxesSubplot at 0x7f461f7fe6d0>"
            ]
          },
          "metadata": {
            "tags": []
          },
          "execution_count": 4
        },
        {
          "output_type": "display_data",
          "data": {
            "image/png": "[encoded data removed]",
            "text/plain": [
              "<Figure size 1728x720 with 3 Axes>"
            ]
          },
          "metadata": {
            "tags": [],
            "needs_background": "light"
          }
        }
      ]
    },
    {
      "cell_type": "code",
      "metadata": {
        "id": "j2CsuSPmeK7e"
      },
      "source": [
        "df['age'] = now.year - df['year']"
      ],
      "execution_count": 5,
      "outputs": []
    },
    {
      "cell_type": "code",
      "metadata": {
        "id": "gqNhD2B5eK7e"
      },
      "source": [
        "#df['brand'] = df['name'].apply(lambda x: x.split()[0])"
      ],
      "execution_count": 6,
      "outputs": []
    },
    {
      "cell_type": "code",
      "metadata": {
        "id": "iJFHiF2EeK7f"
      },
      "source": [
        "df['mileage'] = df['mileage'].apply(lambda x: float(re.findall(r'\\d*.*\\d',x)[0]) if not pd.isnull(x) else np.nan)"
      ],
      "execution_count": 7,
      "outputs": []
    },
    {
      "cell_type": "code",
      "metadata": {
        "id": "ZY2AAzAJeK7f"
      },
      "source": [
        "df['engine'] = df['engine'].apply(lambda x: float(re.findall(r'\\d*.*\\d',x)[0]) if not pd.isnull(x) else np.nan)"
      ],
      "execution_count": 8,
      "outputs": []
    },
    {
      "cell_type": "code",
      "metadata": {
        "id": "uztjC2XQeK7f"
      },
      "source": [
        "def get_max_power(item):\n",
        "    if not pd.isnull(item):\n",
        "        try:\n",
        "            item = float(re.findall(r'\\d*.*\\d',item)[0])\n",
        "        except:\n",
        "            item = np.nan\n",
        "    else:\n",
        "        item = np.nan\n",
        "    return item\n",
        "df['max_power'] = df['max_power'].apply(get_max_power)"
      ],
      "execution_count": 9,
      "outputs": []
    },
    {
      "cell_type": "code",
      "metadata": {
        "id": "e_L6-cXQeK7g"
      },
      "source": [
        "columns_to_be_dropped = ['name','year','torque']\n",
        "df.drop(columns_to_be_dropped,axis=1,inplace=True)"
      ],
      "execution_count": 10,
      "outputs": []
    },
    {
      "cell_type": "code",
      "metadata": {
        "id": "XMexBT8deK7g"
      },
      "source": [
        "categ_cols = ['fuel','seller_type','transmission','owner']"
      ],
      "execution_count": 11,
      "outputs": []
    },
    {
      "cell_type": "code",
      "metadata": {
        "colab": {
          "base_uri": "https://localhost:8080/",
          "height": 722
        },
        "id": "DL2vs9vWeK7g",
        "outputId": "41c7cfbe-b9a0-47e7-f0d9-93f28177e83b"
      },
      "source": [
        "i=0\n",
        "while i < 4:\n",
        "    fig = plt.figure(figsize=[10,4])\n",
        "    plt.subplot(1,2,1)\n",
        "    sns.countplot(x=categ_cols[i], data=df)\n",
        "    i += 1\n",
        "    plt.subplot(1,2,2)\n",
        "    sns.countplot(x=categ_cols[i], data=df)\n",
        "    i += 1\n",
        "    plt.xticks(rotation=90)\n",
        "    plt.show()"
      ],
      "execution_count": 12,
      "outputs": [
        {
          "output_type": "display_data",
          "data": {
            "image/png": "[encoded data removed]",
            "text/plain": [
              "<Figure size 720x288 with 2 Axes>"
            ]
          },
          "metadata": {
            "tags": [],
            "needs_background": "light"
          }
        },
        {
          "output_type": "display_data",
          "data": {
            "image/png": "[encoded data removed]",
            "text/plain": [
              "<Figure size 720x288 with 2 Axes>"
            ]
          },
          "metadata": {
            "tags": [],
            "needs_background": "light"
          }
        }
      ]
    },
    {
      "cell_type": "code",
      "metadata": {
        "colab": {
          "base_uri": "https://localhost:8080/",
          "height": 339
        },
        "id": "O12WfNkneK7g",
        "outputId": "7b2b0475-58d4-4117-ee91-fa4e71d17525"
      },
      "source": [
        "sns.heatmap(df.corr(),annot=True)"
      ],
      "execution_count": 13,
      "outputs": [
        {
          "output_type": "execute_result",
          "data": {
            "text/plain": [
              "<matplotlib.axes._subplots.AxesSubplot at 0x7f46166132d0>"
            ]
          },
          "metadata": {
            "tags": []
          },
          "execution_count": 13
        },
        {
          "output_type": "display_data",
          "data": {
            "image/png": "[encoded data removed]",
            "text/plain": [
              "<Figure size 432x288 with 2 Axes>"
            ]
          },
          "metadata": {
            "tags": [],
            "needs_background": "light"
          }
        }
      ]
    },
    {
      "cell_type": "code",
      "metadata": {
        "id": "HY6wf6K3eK7h"
      },
      "source": [
        "df = pd.get_dummies(df,columns = categ_cols)"
      ],
      "execution_count": 14,
      "outputs": []
    },
    {
      "cell_type": "code",
      "metadata": {
        "id": "hrLBCduueK7h"
      },
      "source": [
        "#Handle missing values with sklearn\n",
        "columns_to_impute = ['mileage','engine','max_power','seats']\n",
        "imputer = SimpleImputer(strategy='mean')\n",
        "df[columns_to_impute] = imputer.fit_transform(df[columns_to_impute])"
      ],
      "execution_count": 15,
      "outputs": []
    },
    {
      "cell_type": "code",
      "metadata": {
        "colab": {
          "base_uri": "https://localhost:8080/"
        },
        "id": "expRW7jSeK7h",
        "outputId": "9099da52-5eed-4ef4-fbfd-52bb52032cc7"
      },
      "source": [
        "df.columns"
      ],
      "execution_count": 16,
      "outputs": [
        {
          "output_type": "execute_result",
          "data": {
            "text/plain": [
              "Index(['selling_price', 'km_driven', 'mileage', 'engine', 'max_power', 'seats',\n",
              "       'age', 'fuel_CNG', 'fuel_Diesel', 'fuel_LPG', 'fuel_Petrol',\n",
              "       'seller_type_Dealer', 'seller_type_Individual',\n",
              "       'seller_type_Trustmark Dealer', 'transmission_Automatic',\n",
              "       'transmission_Manual', 'owner_First Owner',\n",
              "       'owner_Fourth & Above Owner', 'owner_Second Owner',\n",
              "       'owner_Test Drive Car', 'owner_Third Owner'],\n",
              "      dtype='object')"
            ]
          },
          "metadata": {
            "tags": []
          },
          "execution_count": 16
        }
      ]
    },
    {
      "cell_type": "code",
      "metadata": {
        "id": "YEtyVpeVeK7i"
      },
      "source": [
        "features = df.drop('selling_price',axis=1)\n",
        "target = df['selling_price']"
      ],
      "execution_count": 17,
      "outputs": []
    },
    {
      "cell_type": "code",
      "metadata": {
        "colab": {
          "base_uri": "https://localhost:8080/",
          "height": 473
        },
        "id": "8jwTmYWjeK7i",
        "outputId": "8e303cf0-938c-4271-a1cf-ceaacb093bfe"
      },
      "source": [
        "features"
      ],
      "execution_count": 18,
      "outputs": [
        {
          "output_type": "execute_result",
          "data": {
            "text/html": [
              "<div>\n",
              "<style scoped>\n",
              "    .dataframe tbody tr th:only-of-type {\n",
              "        vertical-align: middle;\n",
              "    }\n",
              "\n",
              "    .dataframe tbody tr th {\n",
              "        vertical-align: top;\n",
              "    }\n",
              "\n",
              "    .dataframe thead th {\n",
              "        text-align: right;\n",
              "    }\n",
              "</style>\n",
              "<table border=\"1\" class=\"dataframe\">\n",
              "  <thead>\n",
              "    <tr style=\"text-align: right;\">\n",
              "      <th></th>\n",
              "      <th>km_driven</th>\n",
              "      <th>mileage</th>\n",
              "      <th>engine</th>\n",
              "      <th>max_power</th>\n",
              "      <th>seats</th>\n",
              "      <th>age</th>\n",
              "      <th>fuel_CNG</th>\n",
              "      <th>fuel_Diesel</th>\n",
              "      <th>fuel_LPG</th>\n",
              "      <th>fuel_Petrol</th>\n",
              "      <th>seller_type_Dealer</th>\n",
              "      <th>seller_type_Individual</th>\n",
              "      <th>seller_type_Trustmark Dealer</th>\n",
              "      <th>transmission_Automatic</th>\n",
              "      <th>transmission_Manual</th>\n",
              "      <th>owner_First Owner</th>\n",
              "      <th>owner_Fourth &amp; Above Owner</th>\n",
              "      <th>owner_Second Owner</th>\n",
              "      <th>owner_Test Drive Car</th>\n",
              "      <th>owner_Third Owner</th>\n",
              "    </tr>\n",
              "  </thead>\n",
              "  <tbody>\n",
              "    <tr>\n",
              "      <th>0</th>\n",
              "      <td>145500</td>\n",
              "      <td>23.40</td>\n",
              "      <td>1248.0</td>\n",
              "      <td>74.00</td>\n",
              "      <td>5.0</td>\n",
              "      <td>7</td>\n",
              "      <td>0</td>\n",
              "      <td>1</td>\n",
              "      <td>0</td>\n",
              "      <td>0</td>\n",
              "      <td>0</td>\n",
              "      <td>1</td>\n",
              "      <td>0</td>\n",
              "      <td>0</td>\n",
              "      <td>1</td>\n",
              "      <td>1</td>\n",
              "      <td>0</td>\n",
              "      <td>0</td>\n",
              "      <td>0</td>\n",
              "      <td>0</td>\n",
              "    </tr>\n",
              "    <tr>\n",
              "      <th>1</th>\n",
              "      <td>120000</td>\n",
              "      <td>21.14</td>\n",
              "      <td>1498.0</td>\n",
              "      <td>103.52</td>\n",
              "      <td>5.0</td>\n",
              "      <td>7</td>\n",
              "      <td>0</td>\n",
              "      <td>1</td>\n",
              "      <td>0</td>\n",
              "      <td>0</td>\n",
              "      <td>0</td>\n",
              "      <td>1</td>\n",
              "      <td>0</td>\n",
              "      <td>0</td>\n",
              "      <td>1</td>\n",
              "      <td>0</td>\n",
              "      <td>0</td>\n",
              "      <td>1</td>\n",
              "      <td>0</td>\n",
              "      <td>0</td>\n",
              "    </tr>\n",
              "    <tr>\n",
              "      <th>2</th>\n",
              "      <td>140000</td>\n",
              "      <td>17.70</td>\n",
              "      <td>1497.0</td>\n",
              "      <td>78.00</td>\n",
              "      <td>5.0</td>\n",
              "      <td>15</td>\n",
              "      <td>0</td>\n",
              "      <td>0</td>\n",
              "      <td>0</td>\n",
              "      <td>1</td>\n",
              "      <td>0</td>\n",
              "      <td>1</td>\n",
              "      <td>0</td>\n",
              "      <td>0</td>\n",
              "      <td>1</td>\n",
              "      <td>0</td>\n",
              "      <td>0</td>\n",
              "      <td>0</td>\n",
              "      <td>0</td>\n",
              "      <td>1</td>\n",
              "    </tr>\n",
              "    <tr>\n",
              "      <th>3</th>\n",
              "      <td>127000</td>\n",
              "      <td>23.00</td>\n",
              "      <td>1396.0</td>\n",
              "      <td>90.00</td>\n",
              "      <td>5.0</td>\n",
              "      <td>11</td>\n",
              "      <td>0</td>\n",
              "      <td>1</td>\n",
              "      <td>0</td>\n",
              "      <td>0</td>\n",
              "      <td>0</td>\n",
              "      <td>1</td>\n",
              "      <td>0</td>\n",
              "      <td>0</td>\n",
              "      <td>1</td>\n",
              "      <td>1</td>\n",
              "      <td>0</td>\n",
              "      <td>0</td>\n",
              "      <td>0</td>\n",
              "      <td>0</td>\n",
              "    </tr>\n",
              "    <tr>\n",
              "      <th>4</th>\n",
              "      <td>120000</td>\n",
              "      <td>16.10</td>\n",
              "      <td>1298.0</td>\n",
              "      <td>88.20</td>\n",
              "      <td>5.0</td>\n",
              "      <td>14</td>\n",
              "      <td>0</td>\n",
              "      <td>0</td>\n",
              "      <td>0</td>\n",
              "      <td>1</td>\n",
              "      <td>0</td>\n",
              "      <td>1</td>\n",
              "      <td>0</td>\n",
              "      <td>0</td>\n",
              "      <td>1</td>\n",
              "      <td>1</td>\n",
              "      <td>0</td>\n",
              "      <td>0</td>\n",
              "      <td>0</td>\n",
              "      <td>0</td>\n",
              "    </tr>\n",
              "    <tr>\n",
              "      <th>...</th>\n",
              "      <td>...</td>\n",
              "      <td>...</td>\n",
              "      <td>...</td>\n",
              "      <td>...</td>\n",
              "      <td>...</td>\n",
              "      <td>...</td>\n",
              "      <td>...</td>\n",
              "      <td>...</td>\n",
              "      <td>...</td>\n",
              "      <td>...</td>\n",
              "      <td>...</td>\n",
              "      <td>...</td>\n",
              "      <td>...</td>\n",
              "      <td>...</td>\n",
              "      <td>...</td>\n",
              "      <td>...</td>\n",
              "      <td>...</td>\n",
              "      <td>...</td>\n",
              "      <td>...</td>\n",
              "      <td>...</td>\n",
              "    </tr>\n",
              "    <tr>\n",
              "      <th>8123</th>\n",
              "      <td>110000</td>\n",
              "      <td>18.50</td>\n",
              "      <td>1197.0</td>\n",
              "      <td>82.85</td>\n",
              "      <td>5.0</td>\n",
              "      <td>8</td>\n",
              "      <td>0</td>\n",
              "      <td>0</td>\n",
              "      <td>0</td>\n",
              "      <td>1</td>\n",
              "      <td>0</td>\n",
              "      <td>1</td>\n",
              "      <td>0</td>\n",
              "      <td>0</td>\n",
              "      <td>1</td>\n",
              "      <td>1</td>\n",
              "      <td>0</td>\n",
              "      <td>0</td>\n",
              "      <td>0</td>\n",
              "      <td>0</td>\n",
              "    </tr>\n",
              "    <tr>\n",
              "      <th>8124</th>\n",
              "      <td>119000</td>\n",
              "      <td>16.80</td>\n",
              "      <td>1493.0</td>\n",
              "      <td>110.00</td>\n",
              "      <td>5.0</td>\n",
              "      <td>14</td>\n",
              "      <td>0</td>\n",
              "      <td>1</td>\n",
              "      <td>0</td>\n",
              "      <td>0</td>\n",
              "      <td>0</td>\n",
              "      <td>1</td>\n",
              "      <td>0</td>\n",
              "      <td>0</td>\n",
              "      <td>1</td>\n",
              "      <td>0</td>\n",
              "      <td>1</td>\n",
              "      <td>0</td>\n",
              "      <td>0</td>\n",
              "      <td>0</td>\n",
              "    </tr>\n",
              "    <tr>\n",
              "      <th>8125</th>\n",
              "      <td>120000</td>\n",
              "      <td>19.30</td>\n",
              "      <td>1248.0</td>\n",
              "      <td>73.90</td>\n",
              "      <td>5.0</td>\n",
              "      <td>12</td>\n",
              "      <td>0</td>\n",
              "      <td>1</td>\n",
              "      <td>0</td>\n",
              "      <td>0</td>\n",
              "      <td>0</td>\n",
              "      <td>1</td>\n",
              "      <td>0</td>\n",
              "      <td>0</td>\n",
              "      <td>1</td>\n",
              "      <td>1</td>\n",
              "      <td>0</td>\n",
              "      <td>0</td>\n",
              "      <td>0</td>\n",
              "      <td>0</td>\n",
              "    </tr>\n",
              "    <tr>\n",
              "      <th>8126</th>\n",
              "      <td>25000</td>\n",
              "      <td>23.57</td>\n",
              "      <td>1396.0</td>\n",
              "      <td>70.00</td>\n",
              "      <td>5.0</td>\n",
              "      <td>8</td>\n",
              "      <td>0</td>\n",
              "      <td>1</td>\n",
              "      <td>0</td>\n",
              "      <td>0</td>\n",
              "      <td>0</td>\n",
              "      <td>1</td>\n",
              "      <td>0</td>\n",
              "      <td>0</td>\n",
              "      <td>1</td>\n",
              "      <td>1</td>\n",
              "      <td>0</td>\n",
              "      <td>0</td>\n",
              "      <td>0</td>\n",
              "      <td>0</td>\n",
              "    </tr>\n",
              "    <tr>\n",
              "      <th>8127</th>\n",
              "      <td>25000</td>\n",
              "      <td>23.57</td>\n",
              "      <td>1396.0</td>\n",
              "      <td>70.00</td>\n",
              "      <td>5.0</td>\n",
              "      <td>8</td>\n",
              "      <td>0</td>\n",
              "      <td>1</td>\n",
              "      <td>0</td>\n",
              "      <td>0</td>\n",
              "      <td>0</td>\n",
              "      <td>1</td>\n",
              "      <td>0</td>\n",
              "      <td>0</td>\n",
              "      <td>1</td>\n",
              "      <td>1</td>\n",
              "      <td>0</td>\n",
              "      <td>0</td>\n",
              "      <td>0</td>\n",
              "      <td>0</td>\n",
              "    </tr>\n",
              "  </tbody>\n",
              "</table>\n",
              "<p>8128 rows × 20 columns</p>\n",
              "</div>"
            ],
            "text/plain": [
              "      km_driven  mileage  ...  owner_Test Drive Car  owner_Third Owner\n",
              "0        145500    23.40  ...                     0                  0\n",
              "1        120000    21.14  ...                     0                  0\n",
              "2        140000    17.70  ...                     0                  1\n",
              "3        127000    23.00  ...                     0                  0\n",
              "4        120000    16.10  ...                     0                  0\n",
              "...         ...      ...  ...                   ...                ...\n",
              "8123     110000    18.50  ...                     0                  0\n",
              "8124     119000    16.80  ...                     0                  0\n",
              "8125     120000    19.30  ...                     0                  0\n",
              "8126      25000    23.57  ...                     0                  0\n",
              "8127      25000    23.57  ...                     0                  0\n",
              "\n",
              "[8128 rows x 20 columns]"
            ]
          },
          "metadata": {
            "tags": []
          },
          "execution_count": 18
        }
      ]
    },
    {
      "cell_type": "code",
      "metadata": {
        "id": "tVcY9KJkeK7i"
      },
      "source": [
        "X_train,X_test,y_train,y_test = train_test_split(features,target,test_size=0.2,random_state=42)"
      ],
      "execution_count": 19,
      "outputs": []
    },
    {
      "cell_type": "code",
      "metadata": {
        "colab": {
          "base_uri": "https://localhost:8080/"
        },
        "id": "0aejuPcBeK7i",
        "outputId": "27190569-e5e3-44f8-b370-f210f553b089"
      },
      "source": [
        "rfr = RandomForestRegressor()\n",
        "rfr.fit(X_train,y_train)"
      ],
      "execution_count": 20,
      "outputs": [
        {
          "output_type": "execute_result",
          "data": {
            "text/plain": [
              "RandomForestRegressor(bootstrap=True, ccp_alpha=0.0, criterion='mse',\n",
              "                      max_depth=None, max_features='auto', max_leaf_nodes=None,\n",
              "                      max_samples=None, min_impurity_decrease=0.0,\n",
              "                      min_impurity_split=None, min_samples_leaf=1,\n",
              "                      min_samples_split=2, min_weight_fraction_leaf=0.0,\n",
              "                      n_estimators=100, n_jobs=None, oob_score=False,\n",
              "                      random_state=None, verbose=0, warm_start=False)"
            ]
          },
          "metadata": {
            "tags": []
          },
          "execution_count": 20
        }
      ]
    },
    {
      "cell_type": "code",
      "metadata": {
        "id": "AkfFEI3ReK7j"
      },
      "source": [
        "y_pred = rfr.predict(X_test)"
      ],
      "execution_count": 21,
      "outputs": []
    },
    {
      "cell_type": "code",
      "metadata": {
        "colab": {
          "base_uri": "https://localhost:8080/"
        },
        "id": "FUopDanueK7j",
        "outputId": "edb1f150-e59a-4d45-93a5-de66ccbccbf7"
      },
      "source": [
        "#r2_Score\n",
        "r2_score(y_test,y_pred)"
      ],
      "execution_count": 22,
      "outputs": [
        {
          "output_type": "execute_result",
          "data": {
            "text/plain": [
              "0.972324174172547"
            ]
          },
          "metadata": {
            "tags": []
          },
          "execution_count": 22
        }
      ]
    },
    {
      "cell_type": "code",
      "metadata": {
        "colab": {
          "base_uri": "https://localhost:8080/"
        },
        "id": "q05tswb9eK7j",
        "outputId": "49542eb3-5c46-4923-dc75-64fb5dbb1e0e"
      },
      "source": [
        "#Root mean squared error\n",
        "np.sqrt(mean_squared_error(y_test,y_pred))"
      ],
      "execution_count": 23,
      "outputs": [
        {
          "output_type": "execute_result",
          "data": {
            "text/plain": [
              "134688.8013356906"
            ]
          },
          "metadata": {
            "tags": []
          },
          "execution_count": 23
        }
      ]
    },
    {
      "cell_type": "code",
      "metadata": {
        "id": "5OPOoUAQeK7j"
      },
      "source": [
        "cross_val_mean=cross_val_score(rfr,X_train,y_train,cv=5,scoring='r2').mean()"
      ],
      "execution_count": 24,
      "outputs": []
    },
    {
      "cell_type": "code",
      "metadata": {
        "colab": {
          "base_uri": "https://localhost:8080/"
        },
        "id": "GHSFW_XIeK7k",
        "outputId": "77bee9b8-42ef-4391-d6ca-8e823288252f"
      },
      "source": [
        "print(cross_val_mean)"
      ],
      "execution_count": 25,
      "outputs": [
        {
          "output_type": "stream",
          "text": [
            "0.9627376633799388\n"
          ],
          "name": "stdout"
        }
      ]
    },
    {
      "cell_type": "code",
      "metadata": {
        "colab": {
          "base_uri": "https://localhost:8080/",
          "height": 299
        },
        "id": "I35rAMlGeK7k",
        "outputId": "9cd25966-6156-4fa2-afc8-57af0cde6177"
      },
      "source": [
        "plt.figure(figsize=(14,16))\n",
        "df3=pd.DataFrame({'features':X_train.columns,'importances':rfr.feature_importances_})\n",
        "df3.sort_values('importances',inplace=True)\n",
        "df3.plot(kind='barh',y='importances',x='features',color='b')"
      ],
      "execution_count": 26,
      "outputs": [
        {
          "output_type": "execute_result",
          "data": {
            "text/plain": [
              "<matplotlib.axes._subplots.AxesSubplot at 0x7f4615f80590>"
            ]
          },
          "metadata": {
            "tags": []
          },
          "execution_count": 26
        },
        {
          "output_type": "display_data",
          "data": {
            "text/plain": [
              "<Figure size 1008x1152 with 0 Axes>"
            ]
          },
          "metadata": {
            "tags": []
          }
        },
        {
          "output_type": "display_data",
          "data": {
            "image/png": "[encoded data removed]",
            "text/plain": [
              "<Figure size 432x288 with 1 Axes>"
            ]
          },
          "metadata": {
            "tags": [],
            "needs_background": "light"
          }
        }
      ]
    },
    {
      "cell_type": "code",
      "metadata": {
        "scrolled": false,
        "id": "8165KpEReK7k"
      },
      "source": [
        "important_features = df3['features'].to_list()[-5:]"
      ],
      "execution_count": 27,
      "outputs": []
    },
    {
      "cell_type": "code",
      "metadata": {
        "colab": {
          "base_uri": "https://localhost:8080/"
        },
        "id": "LrKQ3bZgeK7k",
        "outputId": "1a9fa47f-856a-4294-d26f-0e5220378216"
      },
      "source": [
        "important_features"
      ],
      "execution_count": 28,
      "outputs": [
        {
          "output_type": "execute_result",
          "data": {
            "text/plain": [
              "['engine', 'mileage', 'km_driven', 'age', 'max_power']"
            ]
          },
          "metadata": {
            "tags": []
          },
          "execution_count": 28
        }
      ]
    },
    {
      "cell_type": "code",
      "metadata": {
        "colab": {
          "base_uri": "https://localhost:8080/"
        },
        "id": "V8Tffe7yeK7l",
        "outputId": "c4bae13e-ae51-4da2-f511-487654dab8fb"
      },
      "source": [
        "gbr = GradientBoostingRegressor()\n",
        "gbr.fit(X_train[important_features],y_train)"
      ],
      "execution_count": 29,
      "outputs": [
        {
          "output_type": "execute_result",
          "data": {
            "text/plain": [
              "GradientBoostingRegressor(alpha=0.9, ccp_alpha=0.0, criterion='friedman_mse',\n",
              "                          init=None, learning_rate=0.1, loss='ls', max_depth=3,\n",
              "                          max_features=None, max_leaf_nodes=None,\n",
              "                          min_impurity_decrease=0.0, min_impurity_split=None,\n",
              "                          min_samples_leaf=1, min_samples_split=2,\n",
              "                          min_weight_fraction_leaf=0.0, n_estimators=100,\n",
              "                          n_iter_no_change=None, presort='deprecated',\n",
              "                          random_state=None, subsample=1.0, tol=0.0001,\n",
              "                          validation_fraction=0.1, verbose=0, warm_start=False)"
            ]
          },
          "metadata": {
            "tags": []
          },
          "execution_count": 29
        }
      ]
    },
    {
      "cell_type": "code",
      "metadata": {
        "id": "YykSXS8MeK7l"
      },
      "source": [
        "y_pred1 = gbr.predict(X_test[important_features])"
      ],
      "execution_count": 30,
      "outputs": []
    },
    {
      "cell_type": "code",
      "metadata": {
        "colab": {
          "base_uri": "https://localhost:8080/"
        },
        "id": "Bc853EhjeK7l",
        "outputId": "b932ea60-1f43-4138-8d97-419f183933e6"
      },
      "source": [
        "r2_score(y_test,y_pred1)"
      ],
      "execution_count": 31,
      "outputs": [
        {
          "output_type": "execute_result",
          "data": {
            "text/plain": [
              "0.9531774111471032"
            ]
          },
          "metadata": {
            "tags": []
          },
          "execution_count": 31
        }
      ]
    },
    {
      "cell_type": "code",
      "metadata": {
        "colab": {
          "base_uri": "https://localhost:8080/"
        },
        "id": "MfNlz7AeeK7l",
        "outputId": "8e1d7b81-b642-407d-be69-3a642a73cc24"
      },
      "source": [
        "np.sqrt(mean_squared_error(y_test,y_pred1))"
      ],
      "execution_count": 32,
      "outputs": [
        {
          "output_type": "execute_result",
          "data": {
            "text/plain": [
              "175189.83547152212"
            ]
          },
          "metadata": {
            "tags": []
          },
          "execution_count": 32
        }
      ]
    },
    {
      "cell_type": "code",
      "metadata": {
        "colab": {
          "base_uri": "https://localhost:8080/",
          "height": 204
        },
        "id": "2Quy28BjeK7m",
        "outputId": "e260293f-18e9-4566-f8c3-ef09a59eb5fe"
      },
      "source": [
        "results = X_test[important_features]\n",
        "results['Actual_SP'] = y_test\n",
        "results['Predicted_SP'] = [int(i) for i in y_pred]\n",
        "results.head()"
      ],
      "execution_count": 33,
      "outputs": [
        {
          "output_type": "execute_result",
          "data": {
            "text/html": [
              "<div>\n",
              "<style scoped>\n",
              "    .dataframe tbody tr th:only-of-type {\n",
              "        vertical-align: middle;\n",
              "    }\n",
              "\n",
              "    .dataframe tbody tr th {\n",
              "        vertical-align: top;\n",
              "    }\n",
              "\n",
              "    .dataframe thead th {\n",
              "        text-align: right;\n",
              "    }\n",
              "</style>\n",
              "<table border=\"1\" class=\"dataframe\">\n",
              "  <thead>\n",
              "    <tr style=\"text-align: right;\">\n",
              "      <th></th>\n",
              "      <th>engine</th>\n",
              "      <th>mileage</th>\n",
              "      <th>km_driven</th>\n",
              "      <th>age</th>\n",
              "      <th>max_power</th>\n",
              "      <th>Actual_SP</th>\n",
              "      <th>Predicted_SP</th>\n",
              "    </tr>\n",
              "  </thead>\n",
              "  <tbody>\n",
              "    <tr>\n",
              "      <th>1971</th>\n",
              "      <td>1493.0</td>\n",
              "      <td>12.8</td>\n",
              "      <td>110000</td>\n",
              "      <td>17</td>\n",
              "      <td>100.00</td>\n",
              "      <td>198000</td>\n",
              "      <td>162593</td>\n",
              "    </tr>\n",
              "    <tr>\n",
              "      <th>4664</th>\n",
              "      <td>2179.0</td>\n",
              "      <td>14.0</td>\n",
              "      <td>291977</td>\n",
              "      <td>7</td>\n",
              "      <td>138.10</td>\n",
              "      <td>500000</td>\n",
              "      <td>555079</td>\n",
              "    </tr>\n",
              "    <tr>\n",
              "      <th>5448</th>\n",
              "      <td>1248.0</td>\n",
              "      <td>23.2</td>\n",
              "      <td>70000</td>\n",
              "      <td>5</td>\n",
              "      <td>73.94</td>\n",
              "      <td>425000</td>\n",
              "      <td>426259</td>\n",
              "    </tr>\n",
              "    <tr>\n",
              "      <th>3333</th>\n",
              "      <td>1497.0</td>\n",
              "      <td>16.9</td>\n",
              "      <td>120000</td>\n",
              "      <td>15</td>\n",
              "      <td>100.00</td>\n",
              "      <td>150000</td>\n",
              "      <td>161309</td>\n",
              "    </tr>\n",
              "    <tr>\n",
              "      <th>2316</th>\n",
              "      <td>1248.0</td>\n",
              "      <td>22.9</td>\n",
              "      <td>69000</td>\n",
              "      <td>8</td>\n",
              "      <td>74.00</td>\n",
              "      <td>525000</td>\n",
              "      <td>377906</td>\n",
              "    </tr>\n",
              "  </tbody>\n",
              "</table>\n",
              "</div>"
            ],
            "text/plain": [
              "      engine  mileage  km_driven  age  max_power  Actual_SP  Predicted_SP\n",
              "1971  1493.0     12.8     110000   17     100.00     198000        162593\n",
              "4664  2179.0     14.0     291977    7     138.10     500000        555079\n",
              "5448  1248.0     23.2      70000    5      73.94     425000        426259\n",
              "3333  1497.0     16.9     120000   15     100.00     150000        161309\n",
              "2316  1248.0     22.9      69000    8      74.00     525000        377906"
            ]
          },
          "metadata": {
            "tags": []
          },
          "execution_count": 33
        }
      ]
    },
    {
      "cell_type": "code",
      "metadata": {
        "colab": {
          "base_uri": "https://localhost:8080/",
          "height": 419
        },
        "id": "3_AuR-HneK7m",
        "outputId": "d27a8218-652f-4b62-a366-f340fbf62c38"
      },
      "source": [
        "results"
      ],
      "execution_count": 34,
      "outputs": [
        {
          "output_type": "execute_result",
          "data": {
            "text/html": [
              "<div>\n",
              "<style scoped>\n",
              "    .dataframe tbody tr th:only-of-type {\n",
              "        vertical-align: middle;\n",
              "    }\n",
              "\n",
              "    .dataframe tbody tr th {\n",
              "        vertical-align: top;\n",
              "    }\n",
              "\n",
              "    .dataframe thead th {\n",
              "        text-align: right;\n",
              "    }\n",
              "</style>\n",
              "<table border=\"1\" class=\"dataframe\">\n",
              "  <thead>\n",
              "    <tr style=\"text-align: right;\">\n",
              "      <th></th>\n",
              "      <th>engine</th>\n",
              "      <th>mileage</th>\n",
              "      <th>km_driven</th>\n",
              "      <th>age</th>\n",
              "      <th>max_power</th>\n",
              "      <th>Actual_SP</th>\n",
              "      <th>Predicted_SP</th>\n",
              "    </tr>\n",
              "  </thead>\n",
              "  <tbody>\n",
              "    <tr>\n",
              "      <th>1971</th>\n",
              "      <td>1493.0</td>\n",
              "      <td>12.80</td>\n",
              "      <td>110000</td>\n",
              "      <td>17</td>\n",
              "      <td>100.00</td>\n",
              "      <td>198000</td>\n",
              "      <td>162593</td>\n",
              "    </tr>\n",
              "    <tr>\n",
              "      <th>4664</th>\n",
              "      <td>2179.0</td>\n",
              "      <td>14.00</td>\n",
              "      <td>291977</td>\n",
              "      <td>7</td>\n",
              "      <td>138.10</td>\n",
              "      <td>500000</td>\n",
              "      <td>555079</td>\n",
              "    </tr>\n",
              "    <tr>\n",
              "      <th>5448</th>\n",
              "      <td>1248.0</td>\n",
              "      <td>23.20</td>\n",
              "      <td>70000</td>\n",
              "      <td>5</td>\n",
              "      <td>73.94</td>\n",
              "      <td>425000</td>\n",
              "      <td>426259</td>\n",
              "    </tr>\n",
              "    <tr>\n",
              "      <th>3333</th>\n",
              "      <td>1497.0</td>\n",
              "      <td>16.90</td>\n",
              "      <td>120000</td>\n",
              "      <td>15</td>\n",
              "      <td>100.00</td>\n",
              "      <td>150000</td>\n",
              "      <td>161309</td>\n",
              "    </tr>\n",
              "    <tr>\n",
              "      <th>2316</th>\n",
              "      <td>1248.0</td>\n",
              "      <td>22.90</td>\n",
              "      <td>69000</td>\n",
              "      <td>8</td>\n",
              "      <td>74.00</td>\n",
              "      <td>525000</td>\n",
              "      <td>377906</td>\n",
              "    </tr>\n",
              "    <tr>\n",
              "      <th>...</th>\n",
              "      <td>...</td>\n",
              "      <td>...</td>\n",
              "      <td>...</td>\n",
              "      <td>...</td>\n",
              "      <td>...</td>\n",
              "      <td>...</td>\n",
              "      <td>...</td>\n",
              "    </tr>\n",
              "    <tr>\n",
              "      <th>1149</th>\n",
              "      <td>1995.0</td>\n",
              "      <td>16.78</td>\n",
              "      <td>8500</td>\n",
              "      <td>2</td>\n",
              "      <td>190.00</td>\n",
              "      <td>5500000</td>\n",
              "      <td>5500000</td>\n",
              "    </tr>\n",
              "    <tr>\n",
              "      <th>5002</th>\n",
              "      <td>1197.0</td>\n",
              "      <td>20.89</td>\n",
              "      <td>40000</td>\n",
              "      <td>4</td>\n",
              "      <td>81.80</td>\n",
              "      <td>370000</td>\n",
              "      <td>520169</td>\n",
              "    </tr>\n",
              "    <tr>\n",
              "      <th>6008</th>\n",
              "      <td>1197.0</td>\n",
              "      <td>18.90</td>\n",
              "      <td>54043</td>\n",
              "      <td>7</td>\n",
              "      <td>81.86</td>\n",
              "      <td>374000</td>\n",
              "      <td>425169</td>\n",
              "    </tr>\n",
              "    <tr>\n",
              "      <th>2283</th>\n",
              "      <td>1198.0</td>\n",
              "      <td>17.00</td>\n",
              "      <td>70000</td>\n",
              "      <td>3</td>\n",
              "      <td>108.50</td>\n",
              "      <td>575000</td>\n",
              "      <td>812950</td>\n",
              "    </tr>\n",
              "    <tr>\n",
              "      <th>5428</th>\n",
              "      <td>1199.0</td>\n",
              "      <td>18.60</td>\n",
              "      <td>110000</td>\n",
              "      <td>8</td>\n",
              "      <td>79.40</td>\n",
              "      <td>140000</td>\n",
              "      <td>191490</td>\n",
              "    </tr>\n",
              "  </tbody>\n",
              "</table>\n",
              "<p>1626 rows × 7 columns</p>\n",
              "</div>"
            ],
            "text/plain": [
              "      engine  mileage  km_driven  age  max_power  Actual_SP  Predicted_SP\n",
              "1971  1493.0    12.80     110000   17     100.00     198000        162593\n",
              "4664  2179.0    14.00     291977    7     138.10     500000        555079\n",
              "5448  1248.0    23.20      70000    5      73.94     425000        426259\n",
              "3333  1497.0    16.90     120000   15     100.00     150000        161309\n",
              "2316  1248.0    22.90      69000    8      74.00     525000        377906\n",
              "...      ...      ...        ...  ...        ...        ...           ...\n",
              "1149  1995.0    16.78       8500    2     190.00    5500000       5500000\n",
              "5002  1197.0    20.89      40000    4      81.80     370000        520169\n",
              "6008  1197.0    18.90      54043    7      81.86     374000        425169\n",
              "2283  1198.0    17.00      70000    3     108.50     575000        812950\n",
              "5428  1199.0    18.60     110000    8      79.40     140000        191490\n",
              "\n",
              "[1626 rows x 7 columns]"
            ]
          },
          "metadata": {
            "tags": []
          },
          "execution_count": 34
        }
      ]
    },
    {
      "cell_type": "code",
      "metadata": {
        "colab": {
          "base_uri": "https://localhost:8080/"
        },
        "id": "HvNf_JDVeK7m",
        "outputId": "85ae8aa5-9830-483e-c75e-eb51cce228d7"
      },
      "source": [
        "list(gbr.get_params().keys())"
      ],
      "execution_count": 35,
      "outputs": [
        {
          "output_type": "execute_result",
          "data": {
            "text/plain": [
              "['alpha',\n",
              " 'ccp_alpha',\n",
              " 'criterion',\n",
              " 'init',\n",
              " 'learning_rate',\n",
              " 'loss',\n",
              " 'max_depth',\n",
              " 'max_features',\n",
              " 'max_leaf_nodes',\n",
              " 'min_impurity_decrease',\n",
              " 'min_impurity_split',\n",
              " 'min_samples_leaf',\n",
              " 'min_samples_split',\n",
              " 'min_weight_fraction_leaf',\n",
              " 'n_estimators',\n",
              " 'n_iter_no_change',\n",
              " 'presort',\n",
              " 'random_state',\n",
              " 'subsample',\n",
              " 'tol',\n",
              " 'validation_fraction',\n",
              " 'verbose',\n",
              " 'warm_start']"
            ]
          },
          "metadata": {
            "tags": []
          },
          "execution_count": 35
        }
      ]
    },
    {
      "cell_type": "code",
      "metadata": {
        "colab": {
          "base_uri": "https://localhost:8080/"
        },
        "id": "HitgEY1DeK7m",
        "outputId": "dfd8e2e6-5f35-41c5-e671-0ba19deb2c7b"
      },
      "source": [
        "from sklearn.model_selection import GridSearchCV,RandomizedSearchCV\n",
        "#Trying Hyperparameter tuning to see if it gives better results\n",
        "def print_results(results):\n",
        "    print('BEST PARAMS: {}\\n'.format(results.best_params_))\n",
        "\n",
        "    means = results.cv_results_['mean_test_score']\n",
        "    stds = results.cv_results_['std_test_score']\n",
        "    for mean, std, params in zip(means, stds, results.cv_results_['params']):\n",
        "        print('{} (+/-{}) for {}'.format(round(mean, 3), round(std * 2, 3), params))\n",
        "\n",
        "gbc = GradientBoostingRegressor()\n",
        "\n",
        "params = {\n",
        "    'n_estimators':[450,500,550],\n",
        "    'max_depth':[2,4,8],\n",
        "    'learning_rate': [0.01, 0.1]\n",
        "}\n",
        "grid_gb = GridSearchCV(gbc,params,cv=5,n_jobs=2,verbose=2)\n",
        "grid_gb.fit(X_train[important_features],y_train)\n",
        "\n",
        "print_results(grid_gb)"
      ],
      "execution_count": 36,
      "outputs": [
        {
          "output_type": "stream",
          "text": [
            "Fitting 5 folds for each of 18 candidates, totalling 90 fits\n"
          ],
          "name": "stdout"
        },
        {
          "output_type": "stream",
          "text": [
            "[Parallel(n_jobs=2)]: Using backend LokyBackend with 2 concurrent workers.\n",
            "[Parallel(n_jobs=2)]: Done  37 tasks      | elapsed:  1.2min\n",
            "[Parallel(n_jobs=2)]: Done  90 out of  90 | elapsed:  3.4min finished\n"
          ],
          "name": "stderr"
        },
        {
          "output_type": "stream",
          "text": [
            "BEST PARAMS: {'learning_rate': 0.1, 'max_depth': 4, 'n_estimators': 500}\n",
            "\n",
            "0.916 (+/-0.026) for {'learning_rate': 0.01, 'max_depth': 2, 'n_estimators': 450}\n",
            "0.92 (+/-0.025) for {'learning_rate': 0.01, 'max_depth': 2, 'n_estimators': 500}\n",
            "0.923 (+/-0.024) for {'learning_rate': 0.01, 'max_depth': 2, 'n_estimators': 550}\n",
            "0.954 (+/-0.023) for {'learning_rate': 0.01, 'max_depth': 4, 'n_estimators': 450}\n",
            "0.956 (+/-0.023) for {'learning_rate': 0.01, 'max_depth': 4, 'n_estimators': 500}\n",
            "0.957 (+/-0.024) for {'learning_rate': 0.01, 'max_depth': 4, 'n_estimators': 550}\n",
            "0.965 (+/-0.018) for {'learning_rate': 0.01, 'max_depth': 8, 'n_estimators': 450}\n",
            "0.965 (+/-0.019) for {'learning_rate': 0.01, 'max_depth': 8, 'n_estimators': 500}\n",
            "0.965 (+/-0.019) for {'learning_rate': 0.01, 'max_depth': 8, 'n_estimators': 550}\n",
            "0.956 (+/-0.022) for {'learning_rate': 0.1, 'max_depth': 2, 'n_estimators': 450}\n",
            "0.956 (+/-0.022) for {'learning_rate': 0.1, 'max_depth': 2, 'n_estimators': 500}\n",
            "0.956 (+/-0.022) for {'learning_rate': 0.1, 'max_depth': 2, 'n_estimators': 550}\n",
            "0.966 (+/-0.027) for {'learning_rate': 0.1, 'max_depth': 4, 'n_estimators': 450}\n",
            "0.966 (+/-0.027) for {'learning_rate': 0.1, 'max_depth': 4, 'n_estimators': 500}\n",
            "0.966 (+/-0.027) for {'learning_rate': 0.1, 'max_depth': 4, 'n_estimators': 550}\n",
            "0.965 (+/-0.019) for {'learning_rate': 0.1, 'max_depth': 8, 'n_estimators': 450}\n",
            "0.964 (+/-0.019) for {'learning_rate': 0.1, 'max_depth': 8, 'n_estimators': 500}\n",
            "0.965 (+/-0.019) for {'learning_rate': 0.1, 'max_depth': 8, 'n_estimators': 550}\n"
          ],
          "name": "stdout"
        }
      ]
    },
    {
      "cell_type": "code",
      "metadata": {
        "colab": {
          "base_uri": "https://localhost:8080/"
        },
        "id": "7wqB4UgSeK7n",
        "outputId": "4aa389cf-48be-4615-f298-2a6c04d3a4b6"
      },
      "source": [
        "r2_score(y_test,grid_gb.predict(X_test[important_features]),y_test.ravel())"
      ],
      "execution_count": 39,
      "outputs": [
        {
          "output_type": "execute_result",
          "data": {
            "text/plain": [
              "0.9659259001525576"
            ]
          },
          "metadata": {
            "tags": []
          },
          "execution_count": 39
        }
      ]
    },
    {
      "cell_type": "code",
      "metadata": {
        "id": "d3RXb2FOeK7n"
      },
      "source": [
        "#saves the model\n",
        "pickle.dump(rfr, open('model.pkl', 'wb'))"
      ],
      "execution_count": 40,
      "outputs": []
    },
    {
      "cell_type": "code",
      "metadata": {
        "id": "X0AqZZcgeK7q"
      },
      "source": [
        ""
      ],
      "execution_count": null,
      "outputs": []
    }
  ]
}