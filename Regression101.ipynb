{
  "nbformat": 4,
  "nbformat_minor": 0,
  "metadata": {
    "colab": {
      "name": "Regression101.ipynb",
      "provenance": []
    },
    "kernelspec": {
      "name": "python3",
      "display_name": "Python 3"
    }
  },
  "cells": [
    {
      "cell_type": "markdown",
      "metadata": {
        "id": "aDmVvp2JVWm8"
      },
      "source": [
        "What is Machine Learning?"
      ]
    },
    {
      "cell_type": "markdown",
      "metadata": {
        "id": "8aD72EH7Ve2C"
      },
      "source": [
        "![image.png](data:image/png;base64,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)"
      ]
    },
    {
      "cell_type": "code",
      "metadata": {
        "colab": {
          "base_uri": "https://localhost:8080/"
        },
        "id": "qjmkV0h3Vgou",
        "outputId": "1317b006-efd8-412a-e67e-2ac0fe8fc345"
      },
      "source": [
        "#Traditional Programming\r\n",
        "#We have data and hypothesis function and We pass the data to function to generate output\r\n",
        "import numpy as np\r\n",
        "import math\r\n",
        "data = np.arange(1,101)\r\n",
        "\r\n",
        "def program(input):\r\n",
        "  return 2*math.pow(input,3)-5*math.pow(input,2)+6*input+10 #2x^3-5x^2+6x+10\r\n",
        "\r\n",
        "output = [program(x) for x in data]\r\n",
        "print(f\"First 5 elements of data {list(data[:5])}\")\r\n",
        "print(f\"First 5 elements of output {list(output[:5])}\")"
      ],
      "execution_count": 24,
      "outputs": [
        {
          "output_type": "stream",
          "text": [
            "First 5 elements of data [1, 2, 3, 4, 5]\n",
            "First 5 elements of output [13.0, 18.0, 37.0, 82.0, 165.0]\n"
          ],
          "name": "stdout"
        }
      ]
    },
    {
      "cell_type": "code",
      "metadata": {
        "id": "Jx6q7GOTFNNY"
      },
      "source": [
        "df = pd.DataFrame({'data':data,'output':output})"
      ],
      "execution_count": 25,
      "outputs": []
    },
    {
      "cell_type": "code",
      "metadata": {
        "colab": {
          "base_uri": "https://localhost:8080/",
          "height": 419
        },
        "id": "Ir7d15kcF8nu",
        "outputId": "0d46334e-dc1f-4817-ca14-2fe2239eaefc"
      },
      "source": [
        "df"
      ],
      "execution_count": 31,
      "outputs": [
        {
          "output_type": "execute_result",
          "data": {
            "text/html": [
              "<div>\n",
              "<style scoped>\n",
              "    .dataframe tbody tr th:only-of-type {\n",
              "        vertical-align: middle;\n",
              "    }\n",
              "\n",
              "    .dataframe tbody tr th {\n",
              "        vertical-align: top;\n",
              "    }\n",
              "\n",
              "    .dataframe thead th {\n",
              "        text-align: right;\n",
              "    }\n",
              "</style>\n",
              "<table border=\"1\" class=\"dataframe\">\n",
              "  <thead>\n",
              "    <tr style=\"text-align: right;\">\n",
              "      <th></th>\n",
              "      <th>data</th>\n",
              "      <th>output</th>\n",
              "    </tr>\n",
              "  </thead>\n",
              "  <tbody>\n",
              "    <tr>\n",
              "      <th>0</th>\n",
              "      <td>1</td>\n",
              "      <td>13.0</td>\n",
              "    </tr>\n",
              "    <tr>\n",
              "      <th>1</th>\n",
              "      <td>2</td>\n",
              "      <td>18.0</td>\n",
              "    </tr>\n",
              "    <tr>\n",
              "      <th>2</th>\n",
              "      <td>3</td>\n",
              "      <td>37.0</td>\n",
              "    </tr>\n",
              "    <tr>\n",
              "      <th>3</th>\n",
              "      <td>4</td>\n",
              "      <td>82.0</td>\n",
              "    </tr>\n",
              "    <tr>\n",
              "      <th>4</th>\n",
              "      <td>5</td>\n",
              "      <td>165.0</td>\n",
              "    </tr>\n",
              "    <tr>\n",
              "      <th>...</th>\n",
              "      <td>...</td>\n",
              "      <td>...</td>\n",
              "    </tr>\n",
              "    <tr>\n",
              "      <th>95</th>\n",
              "      <td>96</td>\n",
              "      <td>1723978.0</td>\n",
              "    </tr>\n",
              "    <tr>\n",
              "      <th>96</th>\n",
              "      <td>97</td>\n",
              "      <td>1778893.0</td>\n",
              "    </tr>\n",
              "    <tr>\n",
              "      <th>97</th>\n",
              "      <td>98</td>\n",
              "      <td>1834962.0</td>\n",
              "    </tr>\n",
              "    <tr>\n",
              "      <th>98</th>\n",
              "      <td>99</td>\n",
              "      <td>1892197.0</td>\n",
              "    </tr>\n",
              "    <tr>\n",
              "      <th>99</th>\n",
              "      <td>100</td>\n",
              "      <td>1950610.0</td>\n",
              "    </tr>\n",
              "  </tbody>\n",
              "</table>\n",
              "<p>100 rows × 2 columns</p>\n",
              "</div>"
            ],
            "text/plain": [
              "    data     output\n",
              "0      1       13.0\n",
              "1      2       18.0\n",
              "2      3       37.0\n",
              "3      4       82.0\n",
              "4      5      165.0\n",
              "..   ...        ...\n",
              "95    96  1723978.0\n",
              "96    97  1778893.0\n",
              "97    98  1834962.0\n",
              "98    99  1892197.0\n",
              "99   100  1950610.0\n",
              "\n",
              "[100 rows x 2 columns]"
            ]
          },
          "metadata": {
            "tags": []
          },
          "execution_count": 31
        }
      ]
    },
    {
      "cell_type": "code",
      "metadata": {
        "id": "kEs3e3V6V1ka"
      },
      "source": [
        "#Machine Learning is Reverse Engineering the hypothesis function\r\n",
        "X = df['data']\r\n",
        "y = df['output']"
      ],
      "execution_count": 26,
      "outputs": []
    },
    {
      "cell_type": "markdown",
      "metadata": {
        "id": "fQUfXM_WP2gA"
      },
      "source": [
        "![image.png](data:image/png;base64,iVBORw0KGgoAAAANSUhEUgAAAsYAAAFBCAYAAAB0NWlIAAAgAElEQVR4Ae2dP8hlyXnmO1oUTiYHDjpTZGhY7MCJGwc2LA4ag5IFQSNwpEBtcCDYRQrMDkw0GCEQSgYmnGB7MSgSYlDgYASmGRC2EYIxYsRsIGh2HSjY4C7P13q+eb/qOv/urXNO/fkVXM6551S99dav6tR5bp06dR9dCBCAAAQgAAEIQAACEIDA5REMIAABCEAAAhCAAAQgAIELwphGAAEIQAACEIAABCAAARFgxJh2AAEIQAACEIAABCAAAYQxbQACEIAABCAAAQhAAAJvCDBiTEuAAAQgAAEIQAACEIAAI8a0AQhAAAIQgAAEIAABCLwhwIgxLQECEIAABCAAAQhAAAKMGNMGIAABCEAAAhCAAAQg8IYAI8a0BAhAAAIQgAAEIAABCDBiTBuAAAQgAAEIQAACEIDAGwKMGNMSIAABCEAAAhCAAAQgwIgxbQACEIAABCAAAQhAAAJvCDBiTEuAAAQgAAEIQAACEIAAI8a0AQhAAAIQgAAEIAABCLwhwIgxLQECEIAABCAAAQhAAAKMGNMGIAABCEAAAhCAAAQg8IYAI8a0BAhAAAIQgAAEIAABCDBiTBuAAAQgAAEIQAACEIDAGwKMGNMSIAABCEAAAhCAAAQgwIgxbQACEIAABCAAAQhAAAJvCDBiTEuAAAQgAAEIQAACEIAAI8a0AQhAAAIQgAAEIAABCLwhwIgxLQECEIAABCAAAQhAAAKMGNMGIAABCEAAAhCAAAQg8IYAI8a0BAhAAAIQgAAEIAABCDBiTBuAAAQgAAEIQAACEIDAGwKMGNMSIAABCEAAAhCAAAQgwIgxbQACEIAABCAAAQhAAAJvCDBiTEuAAAQgAAEIQAACEIAAI8bzbeDVq1eXDz744PK9733vbqvvufDZZ5/lDp9+TH4/evTozv/Szjx9+vTO9scff/zA9OvXry/6EM4hoPpQnat+bglT9XuLTdKeT0DXptqIPqX7rVJt73xK13twK9M9++zrS3V9ylL9iPo0fQgQOIIALS1DWQL4yZMndxeiL0hvnz179iCF4718+fLB8Rq+7NnJ5jo83RTeeeedu8+tN4ga+LXoQylxkqvfFnng8xsC7gvcj8Wt+jANANwaSrW9W/04K32Je4HrSdseQql+xO21ByaUoX4CCOOkjizudCGqc7LAk1h+//337z4xyePHj+8EdIkbS7RbYn/PTjbX4YmVOzBzK1EObKwnUEqc5Op3vRfErI2A+wLVq9qIPuqznj9/fn/Nvnjx4ia3S7W9m5w4MXGJe4HrSdseQql+xPeVHphQhvoJIIyTOtLNwaI4OZX9qkeTU1MssgkOPLhnJzvV4UkQI4oPrOQkq1LiZKp+k+z42giBub5A/ZeFxy3Xbqm21wjSt9wscS+Yq6e3MmzgQKl+xO2zgSLjYgcEEMZJJZa6kBOzp3zds5PtidMplbNTpqXECfW7UwWdZHapL/DIsZ6KXRtKtb1r8+8h3VI9tVbGUv0Iwri1mm/bX4RxUn+aQ6yLcO3UCMVTZxZHWrSvY7pRKPiRpToJ3Xjiy2mam6xRap3TNtqJrsmefVIc2dHNTP6mNp1uqZO1n8rbvk3lb5veKr44uYw+rjz1iUFxdEy2VfY5HjGd95XejFRepY8MHc+2lZf8E58pNqlPtj83+p+mkW35Y59SP5S/ueb8TePbB/nvunacdOuyug2Yr3xUvSjfXFhb51P1m7PJsfoJqH2oXWibC1Pn3c7WtM1c29M1Its6lwu63nRe8RTcPh1/bf9o27ana1LXhmxP9Wm6xnQ+5ut+w/n73NS17ny1tb00P31XejPUdur6lj9z9ZTLzz4q7S3+27b9jX1L5OF4cWvuyj+Wb6kfkV1zcT+a6yvFRB8CBI4gQEtLKKvD0gWol8iWOgMlzV34SicbvuC1r3iyqX29pKGLXx1Bek5xcuLM8eSfX3CLNnUsfQFwrpNVRy2btusXR6byTzBly604thnj2w/lqXl4yiP1PVdmMVLnLJtO43l8ZhjzcRkUR/YdN1cm+yRmTqd85urcadJyuMzyVTcV2bO/PpfzV76r3Ioby+g08j/HRcdi2SJL89KxNGypc6WXH3M8Uvt8r5eA2662ueB2EwXb1rbpfi+2PfWBakfq63LB+WqrYBtp3+n2LlvRx2jTthRH11tMI3tpcBt3n6r4sS/Qcfmj6zM9Z3+jTduL14z6MPljnxTH13uuT1iqp1x+pfyXbdmyv2mZ5XtOtLqOXUYz1Nb7kYny2dq326dYfvYhsBcBhHGGrC9mXYzqANOLOibJdYaKr7TqAGXLIwjqDGzbna3PyaY7dtlMg+1pK4ETgztT2Yz2fDy9Gbrzky+xo5PfsqFPPB7z8n6u3Don//SJwX7IrsoYbc+V2ee0jcECL+UkkRvLrzTOO40bj8sv3wSjbzHPaCstRyogJAJsR1vXeVoP8lW20jpVGpddNyfbkg/a1zGlSW/25qJzaXm31vlU/aZM+N4GAbf3tA3K+9h+ff1c0zbd78W2Jztqj/rYdiTm9i8fFGxDx2PfqXNuwzoXrwmdszhL07hPU/5pv+k2LnvxnPNRGp2LzCIr2Y7B9tLjshf91b4HRaJt2Zqrp5iX9p1fKf/Vf7rMsQyqN/dh6Q8c9znqk1yH8i2mkc1oT+fdv63t22VDHwIEjiBAS8tQVsfljtYXpDqheOE7mTuneOFr3+nSm4Fs+FxMI3vK1+diR6pzPp6KIfvhjjaen+pk1Ynlbi6y5XKrM58LuXIrvv2Mae2H8k3DVJnFTbaUTy64o0755uJaSMa49kl55Oo1Z8dpcuXwDSLH1Tcc+RyDbw7xphzPm7HydXA+6Q3K590OUm5b69x5p23U+bBti4DbbuwfdO3pOleb1XUQz13TNt3vpW3PbSlt57nrwjbkT7xeTdvXvdI6uK9QG0/7TcWxzfTatF+pOFOaqetI59xHRl46bntrrpnos9I6uJ7iNe9z6db5lfLf/WSuPxRXt5NYPh/LpZm617ns8j8XXMex/tUe9CFA4AgCtLQZyrow1fn54teFGTtkJXXnFDsLd8RTF/7cRZ6zp3ycJnYW0XXnGcVXrpN1vFxnKntL553nkp+Op23Oj3g+Z8tppgT60nmVQzdixXOHr2MOTj8lMB0vbp1G2zSY25Y6d53mbuaynxMOZpW2Q/vjNNEP+7alzp1PZOY82LZHwG3XbS5u1b+lbdrnt7RNt7PY9kRK17Dsxb5Jx9UedTwK5ikbJu5yRH99LBWqTqOtxVa8bubauG3GfGxvysc5e0orlkorm7av8sfg47l8Yzztz+U3Zyfnv4+ldRTzTH8QrElj7orrYN+29O1uj7bBFgJ7Enh4Ve6ZU8O21aF5BEE3kXizyHVO7jB0LhfmLvKcPdmYS+M80jjugGIn62OOO7Wd8t15bfHTeUY/bEfbnC0fm/LPx6NN1Ytvtj4ft7nOOaaPPuX258qxtc6X4jt/+z/13ce9zdm137Y1tY11bv6RmfNg2x4BtwHVq/b1kSDN1W+uDeVK7Hbkc3PpPLgQRxZ9LPanczaUj8uhrcOatro1XS6+85vyccoPldnnzCxubVfbuXxjPO3bpvxJw5ydnP9z8W07TbcmTc5HH4sMcvuy7+Dz/s4WAnsSQBhvoOtfv/GXri/y2DmlHUiaxdxFnrOn9HNpbD+Nk+u4fEz5aH/qE8to+3G7xU/nqW0u5Gz5mITulI86bu66ubp+lMbHlZ9txWNLPuX8nEuztc6X4jv/tE7T747nbc6u/RYH7U99Yp3nmDkPtu0RcBvQdink2lAuTdoW59Klo41+sqFrNYY5G4qXK8eatro1XS6+/ZzyMeeHRLF+AOgjm/GHQcpvqnzON93m8nOcrf7PxbfNtNxr0uR89LG1fbvyz7GyX2whUJoAwngD0VxH4ItcnYZD2oH4uLdzF3nOntLNpdF5z9vStAGHnL8aJZKtuceOTj+33eJnzo9oO2fLI/Tx0WdMk+47j1y5cvYdX9u1YS7N1jrXDVL1EOsr9SNXp7lRtpgu58c1dZ5jFvNhvy0Cc203Lcm1bTPX9mzbbVntV0GiSO0/vb7nbChdrhzuK+IPO+frrfOLcebaeC4f25ryMWfPx9JyylauT5/L1/l7a9vyJw1zdnL+u49If6hEu2Innx3HaXJ9rtPlfHR95Zg4XbrNsUrj8B0CpQggjDeQ9KiHOgSH3IWf63gcX9u5izxnL6aJIw7RZtpp6Vyuc1xz04t2p/aX/Izpcn7E8zlb7nTdCcf4uf2cDcfzSHK8gSz55LRxO5fmmjq3yI1+5fKLDHxTiTf4XBrxcLimzud42i7bdgjMtd1cKa5pm0vXQGxTsp/7UbhkI1cO9xWxzccy6WmSyxPf0Yj+xPjaz+XjOFM+5uxN9fXyKXduLl/n720uP5+bs5Pz332EOMWpLbanrfNz3+M0uXpU/MhdeTq4vmK/5nNT2xyrqbgch8CtBBDGCcF4AcdT8SJf6lxzHU+0NXeRu/NJ/XAaiby044q+xXRTnaPz2NIxRf+1bxsxPx23nzH+lB+Ok7MVy+SO2PFz2ynB6B8M8iv6uuRTLo+5NLKtPFSWXJjjkqtT3XR8M9e+g8ujm9FcO0j9MOO1de74kZl9YNsegbm2myuN429pm0vXgNuuf6gqjzQs2bBfMe1SX6E2r+tPfUQMc208l4/TTvmYs+drON4zZMc+ya8Y5vKN8bSfy89x5uws+Z/rI1x3ab+j7ypDHCxKfdB55emwVF+OF7eykbKK59mHQEkCD6/KGy3r4tcFEG/kOZOOFy+WXLwzjqnT1sWujkX+6aORYndwOh5DrnNSGl3EOpcLcxd5zp5sOI38kH/qqJSPOiT7lj7Smuocxd9plJ9t6dGW0qQ3kFwZlvyMaab8cJwpW/LH5VZnre8qs/xVWWNdOK7KJSauN6X3jVjHHJZ8cry4nUsj28pLZckFlyM9Z99inSof14/KmgbzUhqX1e3AN9zUj6117jwis9QPvrdDYK7tTpVia9tcugaUj9u1rge1yTQs2Zgqh69/2dU1IDs65nassqQ/JH0u18an8pG/Uz7m7Pkpo/LXtSyf1L+Kg65f+RvDXL4xnvZz+TnOnJ0p/9M+Qr4qrvsU+Zze223L3JUmltEDFooXg+IoTUynOLm+XekcN9pgHwJ7EXh4Vd6YS7xIcp2ezbtD0MVbW1BHZv98MWqrjk0XcxpynZM56Fwu2G7uXM6e4jmNuLqz8TELpNTeXOeom4Q6vHijsr1ahLHKo444La/8lN9p+3F5XQ5xUZ35eBSZPpbaSBnG73Npbqlz2U3rQe0g197sj9ppTBN5qPy5trelzqfaofNn2xaBubY7V5ItbXPpGlA+FopTfcySjblyqK9wu3UfoOtCeaaiWL44rvJMw1w+Uz7m7CnftP9SvOhrvFfO5Zv6mMvPcebsTPmvtO4jzM9b3StSUey8dNw/ohzfZbQfOcZKl7JR+tiXOQ/b9Xe2ENiTQFFhLEf961LbXJA4USOXaKk96GKe6gyO9j3XMci32Kle65NsqKwlbF3rw5p0Kq/8zN3kYvo1cWL8WvZdD1v8EZNr2qjzqr3Ot7Ag7n4E3F5uzcECStfonqG2/kx91t5lLs1za9/iMi71zzk/1/btubQcg0BpAsWFsTpQi7jcTdejsXOjYaUL2YM9M+2hLJQBAhAYj4Cm+6gf02giAQIQgECtBIoLYxXUj0/SUWOPFtMxbm8OCOPtzEgBAQjUQcB9v/qxa55w1FEKvIAABEYgsIsw1qMUz3+Mo8YeLY7HRoBcoowI4xIUsQEBCBxJQH2958KqD4vz/I/0g7wgAAEIrCWwizBW5umosUcM9CIEYTsB3VwYad/OjRQQgMB5BDRIIkGsgRKmz51XD+QMAQisJ7CbMJYLcYRY++ocr5mYv744xIQABCAwTUAjmHoJaulxvuOteWGKH6zTvHVGgph+f54RZyEAgXoI7CqMPUpsgcxjtHoqHk8gMCIBCV1PS5qb0uU+S0++5oLtrRHQc3Y4BwEIQAACdRDYVRiriF6eR9u1gRGYtaSIBwEIbCVQcknJJVtbfSM+BCAAAQicS2B3Yey5xksjL8bACIxJsIUABPYgoJHiuVFjjxYvzYmNdmRvbgR6j3JgEwIQgAAEyhOoThgzAlO+krEIAQg8JOAf7LcsKWkbFtlrf/w/9IRvEIAABCBQE4GqhDEjMDU1DXyBQL8Ebl1SMqa3MObl4n7bCyWDAATGIVCVMGYEZpyGR0khcDYB9zceNfbLwmuWlHRai2JvGTU+u1bJHwIQgMBtBKoRxozA3FaRpIYABLYT8HxiPa3S/ppR31xfZWG8Jv12L0kBAQhAAAJHEahGGDMCc1SVkw8EIGACHiW2QF6zpORUX2VxzKix6bKFAAQg0B6BKoQxIzDtNRw8hkAvBLYsKamRZY0KWwTntjrPChW9tA7KAQEIjEZgd2G8BigjMGsoEQcCENiDgPufNSO9XjUnJ4jjMc9b3sNfbEIAAhCAwH4EThfGjMDsV7lYhgAElgmsFcZeYz0K4Ll9/g1vmT0xIAABCNRG4HRhzAhMbU0CfyAwFoG1wthTLubEcDy35d8+xyJOaSEAAQjUS+BUYcwITL0NA88gMAqBNcLYcaLwXbOvdAQIQAACEGiHwKnCmBGYdhoKnkKgVwIWvVMi9tWrV2+9bKdVLLTesZ94aavvXt0iimalJ0AAAhCAQBsEThPGvhnFG8ia/ambVxu48RICEKiNgPuiXN+iFXMsdrXahATwy5cv74uQS6vziufVK5RedggQgAAEIFA/gVOEMSMw9TcMPITAKARy4tZlf/r06eXZs2cXrW+cE7dzaRVf6ZRedggQgAAEIFA/gcOFMSMw9TcKPIQABC53QnhpPeI5YRwZyk5OWMc47EMAAhCAwPkEDhfGjMCcX+l4AAEIlCGwVhiXyQ0rEIAABCCwN4FDhbFGTBiB2btKsQ8BCBxFAGF8FGnygQAEIHAMgUOF8ZoicaNZQ4k4EIBADQTor2qoBXyAAAQgUI4AwrgcSyxBAAKDEUAYD1bhFBcCEOieAMK4+yqmgBCAwF4EEMZ7kcUuBCAAgXMIIIzP4U6uEIBABwQQxh1UIkWAAAQgEAggjAMMdiEAAQhsIYAw3kKLuBCAAATqJ4Awrr+O8BACEKiUAMK40orBLQhAAAJXEkAYXwmOZBCAAAQQxrQBCEAAAn0RQBj3VZ+UBgIQOJAAwvhA2GQFAQhA4AACCOMDIJMFBCDQJwGEcZ/1SqkgAIFxCSCMx617Sg4BCNxIAGF8I0CSQwACEKiMAMK4sgrBHQhAoB0CCON26gpPIQABCKwhgDBeQ4k4EIAABDIEEMYZKByCAAQg0DABhHHDlYfrEIDAuQQQxufyJ3cIQAACpQkgjEsTxR4EIDAMAYTxMFU9fEFffv7Ly+Mf//Dy6KP37j7a1zECBHojgDDurUYpDwQgcBgBhPFhqMnoRAISwBbE6RZxfGLFkPUuBBDGu2DFKAQgMAIBhPEItUwZ40hxKox1jgCBngggjHuqTcoCAQgcSgBhfChuMjuJQCqG0+8nuUW2ENiFAMJ4F6wYhcB1BJjHdx23s1IhjM8iT75HEkiFcPr9SF/ICwJ7E0AY700Y+xBYSYB5fCtBVRQNYVxRZeDKbgSYSrEbWgxXSABhXGGl4NKYBLj5tFfvCOP26gyPtxPgR/t2ZqRolwDCuN26w/POCKSPJ9PvnRW3i+IgjLuoRgqxggDTvFZAIkoXBBDGXVQjheiBQCqE0+89lLG3MiCMe6tRygMBCIxOAGE8egug/NUQYCpFNVWx2hGE8WpURIQABCDQBAGEcRPVhJMjEGAeX3u1jDBur87wGAIQgMAcAYTxHB3OQeBgAszjOxj4jdkhjG8ESHIIQAAClRFAGFdWIbgDAQi0QwBh3E5d4SkEIACBNQQQxmsoEQcCEIBAhgDCOAOFQxCAAAQaJoAwbrjycB0CEDiXAML4XP7kDgEIQKA0AYRxaaLYgwAEhiGAMB6mqikoBCAwCAGE8SAVTTEhAIHyBBDG5ZliEQIQgMCZBBDGZ9InbwhAoGkCCOOmqw/nIQABCLxFAGH8FhIOQAACEFhHAGG8jhOxIAABCLRCAGHcSk3hJwQgUB0BhHF1VYJDEIAABG4igDC+CR+JIQCBkQkgjEeufcoOAQj0SABh3GOtUiYIQOAQAgjjQzCTCQQgAIHDCCCMD0NNRhCAQG8EEMa91SjlgQAERieAMB69BVB+CEDgagII46vRkRACEIBAlQQQxlVWC05BAAItEEAYt1BL+AgBCEBgPQGE8XpWxIQABCDwgADC+AEOvkAAAhBongDCuPkqpAAQgMBZBBDGZ5EnXwhAAAL7EEAY78MVqxCAwAAEEMYDVDJFhAAEhiKAMB6quiksBCBQkgDCuCRNbEEAAhA4nwDC+Pw6wAMIQKBRAgjjRisOtyEAAQhMEEAYT4DhMAQgAIElAgjjJUKchwAEINAWAYRxW/WFtw0S+N3nv7n8v//zfxv0HJeXCCCMlwhxvkcCX3z44eXfvvPfL68/+XmPxaNMgxNAGA/eACj+vgT+41/+9fJPf/ynl19869v7ZoT1UwggjE/BTqYnE/jnZ1+//Oxrf3T57U9+erInZA+B8gQQxuWZYhECdwQ0miJRrBuIbiSMGvfXMBDG/dUpJZonoH5MfZo+9GnzrDjbJgGEcZv1hteVE/jf//N/3d88EMWVV9YN7iGMb4BH0iYJaJTYP/abLABOQ2CBAMJ4ARCnIbCVwK+//4N7Uax5eIR+CSCM+61bSpYn8Kt337vr37QlQKBHAgjjHmuVMp1GQELYjxkRxadVw2EZI4wPQ01GlRBgfnElFYEbuxFAGO+GFsMjEdBcO71gZ1GsqRSE/gkgjPuvY0r4JQHmF3/Jgr1+CSCM+61bSnYQAd0sPIqil+0QxQeBryAbhHEFlYALhxHwuxOffuObh+VJRhA4mgDC+Gji5NcVAS3HFkWxvhPGIYAwHqeuKenlbu1iPRXTexQECPRKAGHca81Srt0JeI1i3Sg++fO/vCCKd0deXQYI4+qqBId2JODlJ+nrdoSM6dMJIIxPrwIcaJGAHin6JsFybC3WYBmfEcZlOGKlfgISwx4EqN9bPITA9QQQxtezI+WgBDzPTjcJzbVjkftBG8LlckEYj1v3o5Xcy7Sx2s5oNT9eeRHG49U5Jb6BgG8OEsXcIG4A2UlShHEnFUkxFgloupj6Pf4GehEVERongDBuvAJx/zgCcY1iXj45jnvNOSGMa64dfCtF4Hef/+Z+KcpSNrEDgVoJIIxrrRn8qoZAXI5NIyYsx1ZN1ZzuCML49CrAgQMIfPHhh5d3//qvLn/wo+9eHn303t3n8Y9/eHn5+S8PyJ0sIHAsAYTxsbzJrTECURTrZTseIzZWgTu7izDeGTDmqyDwD9/523tBbGHsLeK4iirCiYIEEMYFYWKqLwJxOTaJYpYo6qt+S5QGYVyCIjZqJqBpFHGk2ILYW40cEyDQEwGEcU+1SVmKEYiiWMux6eZAgEBKAGGcEuF7bwQ0jcIieGrbW5kpz9gEEMZj1z+lzxCIy7EdvUaxHktqBMY3IObxZSqookMI44oqA1d2IaDVKNwfTW13yRijEDiJAML4JPBkWycBjY7oBTsvx3bkGsUSxVM3Hubx1dleEMZ11gtelSHgP/VgKkUZnlhpgwDCuI16wssDCMTl2M5YoziOFKcCmXl8BzSAK7JAGF8BjSTNEPC67bx810yV4WgBAgjjAhAx0TYBjQpHUXzWcmypGE6/t025T+8Rxn3WK6V6QyD+qQfTvGgVoxBAGI9S05QzSyAux3b2GsWpEE6/ZwvAwVMJIIxPxU/mOxLQ0pTqEyWOCRAYiQDCeKTapqwPCGj+nF6uU+dfw3JsTKV4UD1NfEEYN1FNOHkFgV9869t3faOmUxAgMBIBhPFItU1Z7wnE5dhqEMVyjJfv7qunmR2EcTNVhaMbCOhJmgYM9GGpyg3giNoFAYRxF9VIIbYQ0CNCiWF1+kcvx7bkJ/P4lgjVdR5hXFd94E0ZAl6d59NvfLOMQaxAoCECCOOGKgtXbycQ1yhWp3/kcmy3e4+F2gggjGurEfwpQcAv3Z31InKJMmADAtcSQBhfS450zRHw0kMaKT5jObbmgOHwIgGE8SIiIjRGwC/d6akaAQIjEkAYj1jrA5Y5LsfGyyQDNoCdioww3gksZk8j4Jfufv39H5zmAxlD4EwCCOMz6ZP37gQ0VUJTJvwiCY8Gd0c+VAYI46Gqu/vC6kU795W8dNd9dVPACQII4wkwHG6fQFyjWI8F9YiQAIGSBBDGJWli62wCfrKmUWMCBEYlgDAeteY7L7eWY/MLJLUsx9Y58iGLhzAestq7LLQGErxaz+tPft5lGSkUBNYQQBivoUScpgjENYq1HJu+EyCwBwGE8R5UsXkGAc0p9hKWZ+RPnhCohQDCuJaawI8iBOJybLWtUVykgBipigDCuKrqwJkbCPgJG+9h3ACRpF0QQBh3UY0UQgSiKNYcOdYopl3sTQBhvDdh7B9BwH2nxDEBAqMTQBiP3gI6Kb9fGmGN4k4qtJFiIIwbqSjcnCXAaPEsHk4ORgBhPFiF91ZcjQpHUay/MiVA4CgCCOOjSJPPXgQ8WswfeuxFGLutEUAYt1Zj+HtPIC7HppFi5sbdo2HnIAII44NAk81uBDxazB967IYYw40RQBg3VmG4+4aAFp/Xy3USxBrpYHkhWsYZBBDGZ1Anz1IE4mgx72SUooqd1gkgjFuvwQH9j8uxsUbxgA2goiIjjCuqDFzZTIDR4s3ISDAAAYTxAJXcUxH173VehJ7l2Hqq2TbLgjBus97w+stVfNSfMlpMi4DAlwQQxl+yYK9yAn7s50Xo6cwrr7AB3EMYD1DJHRZRfadHi3k3o4kil5oAACAASURBVMMKpkg3EUAY34SPxEcR8L8ysRzbUcTJZw0BhPEaSsSpjYD7U4ljAgQg8JAAwvghD75VSCAux/ard9+r0ENcGpUAwnjUmm+33Bot9nQ0RovbrUc8348Awng/tli+kYA6cP2DnUaJ9aETvxEoyYsTQBgXR4rBnQlocMHT0XbOCvMQaJIAwrjJauvfaYniuBwborj/Om+xhAjjFmttXJ+1zKUHGljictx2QMnnCSCM5/lw9gQCWo7NL4awHNsJFUCWqwkgjFejImIFBD79xjfvhLGexBEgAIE8AYRxngtHTyIQ1yiWONZ3AgRqJYAwrrVm8CsloKUuPVqskWMCBCCQJ4AwznPh6AkENF3CL4WwRvEJFUCWmwkgjDcjI8EJBOLybFN//fzy819eHv/4h5dHH71399G+jhEgMBoBhPFoNV5peSWKPZqhx3zqyAkQqJ0Awrj2GsI/EYjLs+X6VglgC+J0izimDY1GAGE8Wo1XWN64HJv2CRBohQDCuJWaGtfP+MKdplPkQhwpToWxzhEgMBIBhPFItV1hWaMonnrEV6HbuASBOwIIYxpC7QT8wp22UyEVw+n3qXQch0CPBBDGPdZqA2WKy7FpCsWa5diePHlyefXqVQOlm3aReXzTbFo8gzBusdbG8fmLDz+8m6KmdzfmXrhLhXD6fRxilBQClwvCmFZwOIEoitVhr11PU8L40aNHF4mR169fH+73rRkyj+9WgvWlRxjXVyd49IaAhLBfZpZAngtMpZijw7nRCCCMR6vxk8sbl2NTp71lObYXL17cCWOJ48ePH18+/vjjk0uzLXtuPtt4tRAbYdxCLY3po/81VCv8LAV+tC8R4vxIBBDGI9X2yWXVyLBHMNRZzz3ay7n6wQcf3AtjiWN9nj59evnss89y0as7lj6eTL9X5zAOLRJAGC8iIsIJBOIqP2sHH5jmdUJFkWWVBBDGVVZLf07FjvraNYo1v9iCON0+f/68eoGcCuH0e3+13n+JEMb913FrJYxTKHihubXaw98aCCCMa6iFzn3wCyB6ye7W5dhSQZx+r1kgM5Wiv4aOMO6vTlsv0ZpVKFovI/5DYE8CCOM96WL7Tgj7jztuFcXC6RfwUkGcfpdArm0FC+bx9XdBIIz7q9OWS+RBCE1Z2zpVreVy4zsEShJAGJekia17Alp5wi9/rF2O7T7xzI7mFKcieO67hLTmJteyigXz+GYqt8FTCOMGK61TlzWX2IMQS6tQdIqAYkGgCAGEcRGMGIkE4nJsJUWx8rAQmRPDU+ckql++fBldZR8CNxFwe9SWAIGzCKjP/eTP//JOGGtAggABCFxPAGF8PTtSZgho1EIv10kQb12OLWPurUMWIlPiNz2uZd00rUKjxq2sXvFWoTlQLQG3R4RxtVU0hGP+B1GJY4lkAgQgcD0BhPH17EiZEJAo9nJs6qDXLhOUmJn9qrWLU/Ebv7/zzjuXZ8+eXd5///3q5hjPFoyTTRJAGDdZbV05HVf82aPP7QoWhYHACgII4xWQiLJMQJ2zRfG1y7Et53K5+1OPKITjvkaHa5lLvKYsxGmfAMK4/TpsuQQSwswrbrkG8b1GAgjjGmulMZ/iiIWWCtrzUV5uxFijxP5XPE2bIEDgKAII46NIk09KgHnFKRG+Q6AMAYRxGY7DWvnVu+/dj1iUWI5tCaTmCcdRYu37hTqvWKH5xAQIHEEAYXwEZfLIEfB6xXpCx4BAjhDHIHAdAYTxddxIdbk8WKP4yH9YisI43hAkmjV6rA8v2tFEjyCAMD6CMnmkBDwg4Rec1Sfq3QqmkqWk+A6B7QQQxtuZDZ9Cj/A8WlF6ObY1cC2Mc3OKLVS0fjEBAnsTcHvTlgCBIwjEqWvaV3CfqH4PcXxELZBHzwQQxj3X7g5lkyiOy7H99ic/3SGXeZO+CUz9s53/HQ+xMs+Rs7cTQBjfzhAL6wnEl+3iUzr3idoijtfzJCYEcgQQxjkqHMsSUKfslSf8CC8bcceDnmM8J3olmH2j0Mt6BAjsRQBhvBdZ7KYEYv+bvs/h/s5bPU2bGjhI7fIdAhB4SABh/JAH3yYIxE5ZI8b6fkaQ0NVLdkvBgkXzjXm0uESL89cScDub+6F2rW3SQcAE4pO63HKYFsRxq77PLybbDlsIQGCZAMJ4mdHwMeKctlynfCQgjRivfbHOUyr0UgoBAnsQQBjvQRWbkUAUxVP/bBcFcbrPj7ZIk30ILBNAGC8zGjrGFx9++GA5NnXSrYQ4pUL/hEeAQGkCCOPSRLGXEvDfPU9NX/P0slQQx+96ysaTs5Qs3yGQJ4AwznPhaLIcWzqnrRVAFi4s4dZKjbXlp9sXo3Jt1Vsr3loUa/WfqelruT89iqLY+0ytaKXW8fNsAgjjs2ugwvw1Khw7ZI0atxw8pUJbAgRKEkAYl6SJrUgg9sFeli2e9/5aYWyBzHrHJscWAnkCCOM8l2GPxvlsZ6xRvAf4OKWCkb09CI9rE2E8bt3vWfL4XsecKJYPesHOonftVqPH/EPonjWI7ZYJIIxbrr3CvutRXVyjeOrRXeFsDzFnAaMbB0u4HYJ8iEzcrvjBNUR1H1LILaJYDrkNrhXFMZ6WdWPlikOqlUwaIoAwbqiy9nRVIvjsNYr3LJ9se0pF7h/z9s4b+30SsChBGPdZv0eXKorite91uA1Gwet99Xk6r49eQNaggD9rV/c5mgH5QeBsAgjjs2uggvz173UWxWcvx7Ynjjil4sWLF3tmhe1BCFiUaEuAwC0ErhHFyk8rTlgIe6t5xNrXIAABAhDYRgBhvI1Xd7FjZ/zpN755aWk5tmsqw0JGNw0eIV5DkDSRgNsTwjhSYX8rgdgPrx0pdh4SvxbE2j5//vzulMUxc4lNii0E1hFAGK/j1GWsX3//Bw/WKO6ykJlCeUqFXkBhbc8MIA6tJoAwXo2KiBMEbhHF6r9yolhZ+aU8Ro0nwHMYAhMEEMYTYHo/HJcC+tW77/Ve3Afl05QKiWLdUPhXvAdo+LKRAMJ4IzCiPyCwJIpffv7Ly+Mf//Dy6KP37j7a1zGHuFRbbnqYR5MZNTYxthBYJoAwXmbUVQxNldCUCS3F1stybNdUkF5E8UgLN41rCJJGBBDGtINrCcTBidz0CQlgC+J0a3Hs9jfVh/m85iETIACBdQQQxus4dRErrlGsl+00WjFy8EsrGj3mDe2RW8L1Zbfw0JYAgbUEoiie6ofjSHEqjHVOQX3YlCjW+fh30SxTubZ2iDc6AYTxIC1Ay7F98ud/eTdKLFHc0xrF11ahbhqeUsGIyrUUx06HMB67/reWXoMTa0Sx7KZiOP2uOGteINbLeHo6Rh+3tbaIPyoBhPEANR/XKNZybIjiLytdoy2eUvGf/ut/yc7j+zI2exB4SABh/JBHz9+W5vsulT0+sVszjS0Vwun3pfx8Ps5D5smYqbCFwDQBhPE0my7OxJc7el6j+NrKupvH92f/+V4cP/of37ofqfE8vmttk65/Agjj/utYJbzrJ37/AlwqUNf0ExqM2PqvomumUqyl75fwvJTb2nTEg8CIBBDGHdd6FMW/+Na3u1+j+JqqvL/5PHr0Rhz/4VfvhbHn8V1jlzRjEEAYj1HP9/1ERhwv9RPxid2WaWy3ivFYM/HJGEtURjLsQ+BtAgjjt5l0cSTOY8u98dxFIQsU4n70RyPFvxfHnlKhcwQIzBFAGM/R6efcfT+REcZz/UQcnLjmiZ3EcRTl2l8zQp2Slxj2+xRqswQIQGCaAMJ4mk2zZ6Io/uLDD5sqR6kbwdpCP7jhZaZUrLVDvDEJIIzHqPcH/URGHOcoaH14L4tZwxM7rXOsH/8SyAQIQGCaAMJ4mk1zZ7a+3FFbAUs+Olxbtjgac3fz01QKjRz/4VfvRmrW2iHemAQQxmPU+1v9RBDHOheD+uG4Vnwtf6AUl26bW+ItloV9CIxIAGHcSa3/7vPfPHi54/UnP2+uZFtuPqUK95YYD1MqXvy375TKBjudEkAYd1qxSbHe6ieCMNY5B80njstiTq1R7PhHb/VPn/rhz99EH02e/FoigDBuqbYmfL325Y4Jc6cdvuZxZQlndWOLovxujvHv5xvr76MJEJgigDCeItPf8bSfUJ8RRbFEsF6u0/QJiWP1y7WFuHQbf/hRW+3gTy0EEMa11MSVfmhk2J3xNS93XJntLsnOEsa5wjx58uRuZEVbAgSmCCCMp8iMdTy+16FpFJpOUWvw0m0aPSZAAAJvE0AYv82kmSO3vvFcW0HjqG0qknXuyBD/FU/ihwCBHAGEcY7KOMc0Kuz1iTVS/Ovv/6D6wsel2/jDj+qrCwdPIIAwPgF6iSzVAfuN516WY9NjyVQQ+3t8ZFmC3xob77///psX8R49ujClYg2x8eIgjMerc5c4Tp3QU7uW3uvw0m1aqYIAAQg8JIAwfsijiW/xsV0votjgl+bxOd5RW7+swpSKo4i3lQ/CuK36KuGtpklo+TUPTGjqhF5+bim43Uog84cfLdUcvh5BAGF8BOVCeaQdcm1vPBcqZlVmWBi/quqozhkLDG0J/RPQqLBXnWhl6kSuVtSv+Q+NWLotR4hjIxNAGDdS+xLFnsumx3aI4uMqLr7JzZSK47i3kBPCuIVaKuNj/MMOieOWpk7kCDx//pyl23JgODY8AYRxA00gXRuzxmWAGsB4k4v+1yimVNyEsbvECOPuqvStAqUv2Gn6Ws2rTrxVgIkD8Q8/WLptAhKHhySAMK682tUpezm2WtfGrBxhMfe8hBuPzYshbd4Qwrj5KpwtQHzJWf3wb3/y09n4rZ18+vTp3aixRo8JEIDAGwII44pbQnzrufU1iivGvNo1L+GmF1ZY5mg1tq4jIoz7rN50LrFetuthlDitrThNjD4tpcP3UQkgjCuteYliv/Xca6dcKfpZt7wGqEZaCBBAGPfVBiR+41ziHkeJ0xrzqDFPwlIyfB+VAMK4wpqPHXNvy7FViHuzS35pRescE8YmgDDup/7jEzoNSvQyl3iphvxjX/+IR4AABC4XhHFlrUCdsUeKW/gXpcrwHeKOljrSTYQpFYfgrjoThHHV1bPKOa1BrLWI3e/2sOLEqoKHSP6b6JcvX4aj7EJgTAII40rqPS7Hpg6a5dgqqZgJN7Rsm9YB1R+AEMYlgDBut+5z0yZGHYzwqDH9WbvtGc/LEUAYl2N5taUoikeY03Y1qMoS+i+jGWWprGIOdAdhfCDsglml0yb0Hkdr/15XEMedKY8a8xJeabLYa40AwvjkGovLsUkUs0bxyRWyMXuNsNTwt6qvf/aziz61hNr82YsLwngvsvvY1WoT/qMkPZkbcdrEFFna8hQZjo9GAGF8Yo2rk5YYVgetznr0EYsTq+LqrD3fWH8Acmb42Ve+ctGnllCbP3txQUzsRbas3XQesfrdLz78sGwmjVtTX6Yf+byE13hF4v7NBBDGNyO8zkBcjo01iq9jWEsqzzc+89+jahOitfmzV1tBGO9FtoxdCeL4QrMGIbTqj6avEd4m4PbM9LC32XBkHAII4xPqWiMV6qD1GWVJoBMwH5ql5huf+XfRtQnR2vzZqzFYSGhLqIdAThCrr+Wp3HwdedSYl/DmOXG2bwII44PrN45eaJ/QDwHdTM4SSLUJ0dr82auVIYz3InudXY0Ea2UJT1HT4IOWYtO0NcI6Am7TEskECIxIAGF8UK2rw9abzx4pZjm2g8AfmI1uJBo1PuOt7qOE6L///d+vmst8lD8HVm82K4uIs34QZZ0a8KBGgi2I3/3rv7r8wY++e3n00Xt3n8c//uHl5ee/HJDKdUX2qDF/YHQdP1K1TwBhfEAdxuXYJIwRxQdAPykLzTfWP+Mp/Nvf/M3l07/4i8mXfH77j/94d17xbg1RiMruL77+9csnX/va5Z+++tW7fR0rEa4Rxrf4o2lHYjjFSOXU+bNW5EAYl2hV19tIp0xIFFsQp1vE8XrOate8hLeeFzH7IoAw3rk+tfyalwdiObadYVdiXovl60U8jWBJsP7zn/xJ1jOJOp2X2Lw1WBj/6u/+7s6mbMuu89B5nbs1bBXGt/qjH5US+PI//fMF+6IynhUQxueQTwWxp0zEkeJUGGvkmLCOgEeN9UOfAIHRCCCMd6zxuEax1stkjeIdYVdmWoJJUyosWP/j008feCjB53O/+/d/vzunkc8tn7jclG1phDjNS6OpOq446ciqR3OVb7T3wNnwxWI0HMruXuOPOHiUPZZB+7KnMphVPCaWZwWE8bHkNVc4/n2zBbHnEKdiOP1+rLfzudW21nfqj9r22ctQzhPMn1V/oLLEPiQfk6MQyBNAGOe53Hz0tz/56f0LID0ux6bHkhqB8Y2HeXz5JiOhJ1GXjtberUzyla/cjeg65RZRnApZC9EpcWtBG0dX7YN8nPLTvnlrO/4+td3qj32ZEvDOV+VW0Ci88kiF/pQ/ex1HGO9F9qFdTT/T4ILf0dBWLy+ngw3uj6a2D62e+83XyLlefJl76o9GjVucTqE+QWVxX/FlCdmDwDoCCON1nDbFimsUa3TjzBGtTY6vjCxRPHXjYR7fQ4jupDUdIAZPcZgSsjHumv30ppam8Qir/VCblAiNQtni2O1VYjT96GajvNLj+h5F6lZ/NBKs9LKjtNGWy2IxbB/SHxuOd+QWYbwf7fhCnQWxpqNpHWKdy4X4Yz3to2qbSrF0jeTKt+exnD9q362taew+tyZhrD5VfZv7MPXD+k6okwDCuHC9qNN2J97rcmwt3XwKV+9V5jxH1i/AqZPUTUjCtFTI3dRS2zGOfNF3+6S46THHX7uNHb3TpD7E77k4c8JY4tkjyhb40d4Z+wjj8tT1tC2u4KP+VKPF+hHpH21Tubb0oz3X/qfKdcTxnD8aNW5tOkWNwlh9l0Sx2rD6Wf+4T9+bOKKeyWOZAMJ4mdHqGHGNYgnkXkM6EpN+77Xc15bLL+FpRFbB0wZKjnjmbmqpvzFOToD6hhIFbmrD6dLj6feYV3rO33NxbD83Ymz/lE4C2fONbe+MLcK4DHWPDqfTJfTETUJ5S2hlmleu/W8pZ+m4U/60tmyb+4maRozTuvLgSM0+pj6P9B1hXKC21cjjCyG9L8eWCuH0ewGkXZlwJ6gbj/Y9jSJ9OcQ3prXbKGCdZgqcp1Jo1EIhJ0B9Q4l2U3tOlx5Pv2/1x+ltPxXG4qZRYglir3RRw00FYeyau26bGx1emi5xXU71pVq6Rkp57Gtqyd5R/iz5MXde1/zSde9+bCneXD57n/M9wYMle+eH/W0EEMbbeL0VWw08Lse2dXTjLYMNHGAqxfZK8vxdjxZboEZLuoFt+UTx6JtanBoRbVtMepQ6nTahuLlj0Yb2t95k1/rjfGw/lk3n/GNC5xU8V8/fnf7obe/CeI/RV70wp6dr8d/pNF1CgwtnDyroOpWg0nWaC2rPOl9C0PiaVT6yqzbuH3/an7p2cn7NHfM1NRdH50r5I3ZzjFQ2nU+v8SX/dF7p9JkLqTDWEzul0Y9q8VXdpYMSc/Y8mDHl8zVtwv3xFj/mfORcWQII4xt4xuXYRlqjuKV5fDdUb9Gk7qzVMesGNHXjvTZT39TU+aedrfOO0w9yIxYW7zo3FbbeZNf64/xsP940cz8mPAKucqflta0jtj0L45LX+dRUCU2dkHCZepnuiDqMeXjaU+6Hq+KlP9Bi2q37vmYtkmRb7d956Lx/yG61HeP7morHcvul/FH/4X5OPGOwLyrjNWGrMFY9qg9S36a8/YNaZd3yw8PtQuWK/aP2ZV/21vZD7s9K3wOu4UmaPAGEcZ7L4tEoijVinC4btGig8Qh7jCQ1jmTRfd8s1JHGznUx4YoI6ph103DH7xtBvMmmHbFvUoprUaxjc8Fp5uLo3DX+KJ3tWxjHF+7SG4/jTomYJR9LnO9ZGN/6ZEhiV23OT9T8UrIGETRi7LWHS9RDKRu6LtV2c0InnvP8dgu1tdt4DTqfqR+PFly+FlxGjy4rz2jP59Otr5P0ePr9Gn/EQX2HfInXp/ZlT2Uwq3gs9n9TNlL/9N2cc+d8zAMByl99Q8xLcSxyYz+sODpu+9pP07kvjT9WfEyMHZRO33P1o/qSX7JPqJcAwviKuonLsfW4RvEVSEiygoBHhnQjKR3UCbvDdgevjl9iXPnFm1bMWx210qqDX3OTdfxoI7d/qz/2V2WSrakbifzW+TW+5/y89VjPwjh9dyD9nmM3JYYlirXSxNlTJXI+p8f8I9HXk8+rjUnUqM05qO1t+cR2Klv6xGO2q60FbczPPsjHKT+jjWgnPZ5+3+qPfZkS8PZffBT8oz0K/SUbqY9mnR6P36MwtiiP57UvOyqv+xWxlH/y2VzTH9wSvLGs+oEiGy6f7KrfUhzHkz0H85iqb8djez4BhPHGOoiiWKMe6a/KjebuojP6eg21ttKonXjEeKqzbqtEeCsCCOPL3dMyrcKTrigRxXCJfvKoFmdhpes1BgnUOSEb467ZtxCdiusRVvthYRaFskWc+Up8pR+LwPS4vkeRutUf9WNKLztKG225TBbD9iH9sTFlQ8dz/oqFPrlz7lddf1Gw2h9vJYjls/gpmJ/Pm6t/oPu4xbD9kAB2vo4j4Wsf5KeC8zPjuHU6tvUQQBhvqIu4HJv2S4SS8/hK+IONfQi4o3VHvE8uWD2aQM/CeG4qxR/86LvZF+haFcNpu5HwkXjxPFQJJ32XECoVLI7m7MU4FmX2SenSY46/dmvhJltOs9Yfx5MNpc0JY4lGj56K6VRIbVhY2qc1W+fvtHPCeCmO/UmFsfyXuLc/U6O/tm++4qBjuc8UE46fRwBhvIK9OsUoiqcuhhWm3ooyd/PROULbBO7azu//Flo3iHRkou3S4X3PwnjuR/u7f/1X939k5DnDPa3I4xE+/5BVny8xlI543nIFWFzN2YhxLNYkrhxSAebjcet08VhuP+aVO69juTi2H/1yevundLnRVcebs+E42krszglexXGec/GW4nhEOObtfdk1h6n2YPsqF6E9AgjjhTqTkIkvj5SeI5fO20u/L7jH6YoJeL6Zbwq50YeK3ce1FQR6FcZ6mVhi8B++87cXjQ67X9K+RLH6RInHXl86Vr9v8aN9T6NIr2HHWbuNQslpppqZ8lIcz3XNicc1AszppvLx8a3+OJ3ty5cYxE0CU4LYo6xTYnXKRrSnfaWfsuG4ZjIXzz98csLWT/fS8si+0ymOnyrk4tkHlYvQHgGE8Uyd6UUSi+K9lmPzDWdqO+MepxogoJuNOuh0HloDruPiCgK9CGOtECEhrBfk1Nd5BQlvNX9YT800MCDBM0KwQPJosQVqLLuEz5ZPFFEWonFqRLRtMWnxlk6bUNzcsWhD+xad6fH0+1Z/nN72Y9l0zj8mdF7B84393em1nbIR42h/izBWeabaqn1J2Vv4qs7T4B8qfvJn9v4e4yOMI4329hHGE3UWl2PbSxQra6ZSTFRAJ4enOuZOijd8MVoUxvrBr2kPemEu/mOnRbC26vMkkiUQeh0VXmq8FjceGcyJpSUbc+ctRCWs0pFo561z/lGtvkRpPL1Dti3e5/oZi845X3Ruqz+2Z/tRGOd+TFhYKp+0vDkbth+3W4WxBHDKxnmlP3TMMlfPspET0xb/8YVI+ev6U16E9gggjDN1ppuGR032Xo5tbh6fzhEgAIF6CZQUxrre4w9l7d/aB1gEayRMItj9WhTB2veI8MhCONfKLIpzo4K5+FuOSSBK6FlwSZhJSFls6Xwq0izqFNdCbkl8Oc2Sb9f4I5u2b2EcX7ibEsCpKE1tTPm6RRiLj+pNH426Kw+z1rHom1nqvOL54zJ59D4VwBLMsiV2cfQZYTxVg20cRxgn9RSXY9tbFDvrPW6Its0WAhDYj0ApYaw+YGo61RpxrBu0p0PMjQRbEEskK54GASSeCXkCFkQSTqWDRJ6nSdz9cFn5t8USy0orkZYK55yPjp87F4/d6o+FpsokWypTLshvnY++20fbyKXTMdk2s6k4smH7ui7sj8SrhK++63gMip/7yC/b0/k0nWxIEOucyuXzThPLGPNjv24CCONQP3fzi772R3fz60otxxbMswsBCHRGoJQwjiPFqUDWOQXddCV+9eNdfZX6qKmpEBbA2loEK92o0yKuaXbi7RFjT2e4xg5pIACBtgggjH9fX3E5No2kECAAAQgsESgljFMxnH6PQndqXwJY84IlmiWgGQleqr358368vsdo8XzOnIUABM4kMJwwzk1b0JJEvtloVIUAAQhAYA2Bo4WxxK8+Er96TIsAXlNL2+JopNiiWPNH/Xh8mxViQwACrRIYShjPzePT2pyI4labMX5D4BwCpYTxmqkU55RwrFw1N9QvU6UvaI1FgtJCYFwCQwljbj7jNnRKDoE9CJQSxnM/2te8fLdH2Ua16dUZmFc8agug3KMTGEoYp/P20u+jNwbKDwEIbCNQShgr19w0L0TxtvooEZupEyUoYgMC7RJAGH/03v0ySe1WI55DAAJnECgpjM/wnzwhAAEIQOAhgaGEMVMpHlY+3yAAgdsIIIxv40dqCEAAArURGEYYazk2vWCXTp/wdx5Z1tY08QcC9RNAGNdfR3gIAQhAYAuBIYRxXKP4gw8+KP63q1uAExcCEOiHAMK4n7qkJBCAAAREoGthrJco9LfOrFFMY4cABPYggDDegyo2IQABCJxHoFthHEXxP/3xn94thH8eZnKGAAR6JIAw7rFWKRMEIDAygW6FsSpVf48qUfwf//KvI9cxZYcABHYigDDeCSxmIQABCJxEoGthrFHj333+m5PQki0EINA7AYRx7zVM+SAAgdEIdC2MR6tMygsBCBxLAGF8LG9ygwAEILA3AYTx3oSxDwEIdEsAYdxt1VKwgwm8fv364BzJDgJ5AgjjPBeOQgACEFgkgDBeREQECKwi8Nlnn12ePn16QSCvwkWknKfFNgAABvlJREFUHQkgjHeEi2kInEmAG8z+9BHG+zMmh3EIPHv27PL48ePLq1evxik0Ja2OAMK4uirBIQiUIcAITBmOc1YQxnN0OAeBbQT0B1yPHj26++jaIkDgDAII4zOokycEDiLACMy+oBHG+/LF+lgE9JTrnXfeuRfHT548uXz88cdjQaC0pxNAGJ9eBTgAgf0IMAKzH1tZRhjvyxfr4xF4/vz5vTD26LGO6QkYAQJHEEAYH0GZPCBwEgFGYPYFjzDely/WxyPw8uXLt4SxBLJGknW98e7EeG3i6BIjjI8mTn4QOJgAIzD7AUcY78cWy+MS0At4Hi1OtwjkcdvFUSVHGB9FmnwgcBIBRmD2A48w3o8tlscl8OLFi0lhbKFsgcwUi3HbyV4lRxjvRRa7EKiIACMw+1SGhbHWX9U+HxjQBm5vA7mnXBbEua3i85LePn3ciFYRxiPWOmUejgAjMPtUuYVx7mbNsTfLbsEBDke1Af1AZQR5n75uJKvVCmNGYG7/1c3IBQzdBhiB2adb1yiVGbPleqMNlGkD9Ff79FdYXUegWmF81C9M8mE0gzYw3QYYgVnXkRILAhAoR4AnXOVYYmk7geqEMSMwZX5xM3IBx9gGGIHZ3jmSAgIQOIcA70Scw51c3xCoThhTMRCAQHkCjMCUZ4pFCECgPAFW0SnPFIvbCCCMt/EiNgSaJMAITJPVhtMQGI5A7umWjvFS3XBN4bQCI4xPQ0/GEDiGACMwx3AmFwhA4DYC/FPnbfxIXYYAwrgMR6xAoFoCjMBUWzU4BgEIBAIffPDB/R976B0JBwlmvX+kz9xfQmtUWXFevXrlpGwhsJkAwngzMhJAoB0CjMC0U1d4CoHRCTx79uyiaV85YevpYFEwR16xr3v//ffjKfYhsIkAwngTLiJDoC0CUyMwbZUCbyEAgd4JSNhqecipEWGNBHtpzdx8YwlmnZcNAgRuIYAwvoUeaSFQOYG5EZjKXcc9CEBgIAJTgjgiUH8m8avpYTFIKFs050abY1z2IbBEAGG8RIjzEGiUwNIITKPFwm0IQGBQAhLA77zzzp0I1giygwXz1DQLx2MLgTUEEMZrKBEHAg0SWDMC02CxcBkCEBiYQDplwlMsNAeZPm/ghlGw6AjjgjAxBYHaCejGoRuJPnM3Ed7urr0m8Q8C4xLwi3hailJzijWNQvsECJQggDAuQREbEGiIgG8qU48dJZj9uJK3uxuqWFyFwCAEvDa7+ylNpSBAoBQBhHEpktiBQCME/OhRoyy83d1IpeEmBCDwgIBHiqf6sQeR+QKBDQQQxhtgERUCvRDwyyq83d1LjVIOCIxDID7VkjCeevo1DhFKWpIAwrgkTWxBoBECvN3dSEXhJgQg8BaBFy9e3C/bJmGsKRW5p19vJeQABFYQQBivgEQUCPRIgLe7e6xVygSBvglonWKJYb0roeC/vGeecd/1fmTpEMZH0iYvCFRGwC/i8XZ3ZRWDOxCAQJaA5xbrXz0V4rQKvT9BgMCtBBDGtxIkPQQaJsDb3Q1XHq5DYDAC/ov7J0+ePCi5Vs+Jo8gPTvIFAhsJIIw3AiM6BHoj4BEY3ViYp9db7VIeCPRBYGlk2E+/eBGvj/o+sxQI4zPpkzcETiYQbzYSxtxUTq4QsocABLIE/MKdfsjngpeh5EW8HB2ObSGAMN5Ci7gQ6IyAbzZ+gYWbSmcVTHEg0AEBv3CnH+/anwp++sWLeFOEOL6GAMJ4DSXiQKBDAr7Z8HZ3h5VLkSAAAQhA4CoCCOOrsJEIAu0T8OgKb3e3X5eUAAIQgAAEyhBAGJfhiBUINEWAt7ubqi6chQAEIACBgwggjA8CTTYQqIVAfOEut+4nb3fXUlP4AQEIQAACRxNAGB9NnPwgcDIBv3DH290nVwTZQwACEIBAdQQQxtVVCQ5BYD8CfuGOt7v3Y4xlCEAAAhBolwDCuN26w3MIQAACEIAABCAAgYIEEMYFYWIKAhCAAAQgAAEIQKBdAgjjdusOzyEAAQhAAAIQgAAEChJAGBeEiSkIQAACEIAABCAAgXYJIIzbrTs8hwAEIAABCEAAAhAoSABhXBAmpiAAAQhAAAIQgAAE2iWAMG637vAcAhCAAAQgAAEIQKAgAYRxQZiYggAEIAABCEAAAhBolwDCuN26w3MIQAACEIAABCAAgYIEEMYFYWIKAhCAAAQgAAEIQKBdAgjjdusOzyEAAQhAAAIQgAAEChJAGBeEiSkIQAACEIAABCAAgXYJIIzbrTs8hwAEIAABCEAAAhAoSABhXBAmpiAAAQhAAAIQgAAE2iWAMG637vAcAhCAAAQgAAEIQKAgAYRxQZiYggAEIAABCEAAAhBolwDCuN26w3MIQAACEIAABCAAgYIE/j/h+MsMB2PWbwAAAABJRU5ErkJggg==)"
      ]
    },
    {
      "cell_type": "code",
      "metadata": {
        "colab": {
          "base_uri": "https://localhost:8080/",
          "height": 295
        },
        "id": "sKfFfO5eQKmT",
        "outputId": "870aaf29-5f80-46e2-f09b-f8785ca37517"
      },
      "source": [
        "import sklearn\r\n",
        "import numpy as np\r\n",
        "import matplotlib.pyplot as plt\r\n",
        "from sklearn.linear_model import LinearRegression\r\n",
        "\r\n",
        "lr = LinearRegression()\r\n",
        "lr.fit(X.values.reshape(-1,1),y)\r\n",
        "preds = lr.predict(X.values.reshape(-1,1))\r\n",
        "plt.scatter(X, y,  color='black')\r\n",
        "plt.plot(X, preds, color = \"green\")\r\n",
        "plt.title(\"Linear Regression on polynomial feature\")\r\n",
        "plt.xlabel(\"feature\")\r\n",
        "plt.ylabel(\"target\")\r\n",
        "plt.show()\r\n"
      ],
      "execution_count": 33,
      "outputs": [
        {
          "output_type": "display_data",
          "data": {
            "image/png": "[encoded data removed]",
            "text/plain": [
              "<Figure size 432x288 with 1 Axes>"
            ]
          },
          "metadata": {
            "tags": [],
            "needs_background": "light"
          }
        }
      ]
    },
    {
      "cell_type": "code",
      "metadata": {
        "colab": {
          "base_uri": "https://localhost:8080/"
        },
        "id": "6sz-5MUnWkk0",
        "outputId": "0387aee7-9413-481a-b701-a323cdea534e"
      },
      "source": [
        "import sklearn\r\n",
        "import numpy as np\r\n",
        "import matplotlib.pyplot as plt\r\n",
        "from sklearn.linear_model import LinearRegression\r\n",
        "from sklearn.preprocessing import PolynomialFeatures\r\n",
        "from sklearn.pipeline import make_pipeline\r\n",
        "\r\n",
        "degree=3\r\n",
        "polyreg=make_pipeline(PolynomialFeatures(degree),LinearRegression())\r\n",
        "polyreg.fit(X.values.reshape(-1,1),y)"
      ],
      "execution_count": 35,
      "outputs": [
        {
          "output_type": "execute_result",
          "data": {
            "text/plain": [
              "Pipeline(memory=None,\n",
              "         steps=[('polynomialfeatures',\n",
              "                 PolynomialFeatures(degree=3, include_bias=True,\n",
              "                                    interaction_only=False, order='C')),\n",
              "                ('linearregression',\n",
              "                 LinearRegression(copy_X=True, fit_intercept=True, n_jobs=None,\n",
              "                                  normalize=False))],\n",
              "         verbose=False)"
            ]
          },
          "metadata": {
            "tags": []
          },
          "execution_count": 35
        }
      ]
    },
    {
      "cell_type": "code",
      "metadata": {
        "colab": {
          "base_uri": "https://localhost:8080/"
        },
        "id": "UDZHrToUXngf",
        "outputId": "6a351faf-79b0-4dda-a8f6-8ca1615f698d"
      },
      "source": [
        "polyreg[1].coef_"
      ],
      "execution_count": 36,
      "outputs": [
        {
          "output_type": "execute_result",
          "data": {
            "text/plain": [
              "array([ 0.,  6., -5.,  2.])"
            ]
          },
          "metadata": {
            "tags": []
          },
          "execution_count": 36
        }
      ]
    },
    {
      "cell_type": "code",
      "metadata": {
        "colab": {
          "base_uri": "https://localhost:8080/"
        },
        "id": "2WdOwjTflfGc",
        "outputId": "6cf9b425-278a-4b02-c342-be81279df9ba"
      },
      "source": [
        "polyreg[1].intercept_"
      ],
      "execution_count": 37,
      "outputs": [
        {
          "output_type": "execute_result",
          "data": {
            "text/plain": [
              "10.00000000023283"
            ]
          },
          "metadata": {
            "tags": []
          },
          "execution_count": 37
        }
      ]
    },
    {
      "cell_type": "code",
      "metadata": {
        "colab": {
          "base_uri": "https://localhost:8080/"
        },
        "id": "jpIztNagdfmd",
        "outputId": "c7644a11-152a-4219-bb81-0ce2aaa74ea6"
      },
      "source": [
        "polyreg.predict([[200]])"
      ],
      "execution_count": 38,
      "outputs": [
        {
          "output_type": "execute_result",
          "data": {
            "text/plain": [
              "array([15801210.00000001])"
            ]
          },
          "metadata": {
            "tags": []
          },
          "execution_count": 38
        }
      ]
    },
    {
      "cell_type": "code",
      "metadata": {
        "id": "CpsOTyDinEoj",
        "colab": {
          "base_uri": "https://localhost:8080/",
          "height": 276
        },
        "outputId": "50cdd78b-b700-490a-87b0-6333709632e3"
      },
      "source": [
        "mymodel = np.poly1d(np.polyfit(X, y, 3))\r\n",
        "myline = np.linspace(1, 100, 100)\r\n",
        "plt.scatter(X, y,color='black')\r\n",
        "plt.plot(myline, mymodel(myline),color='red')\r\n",
        "plt.show()"
      ],
      "execution_count": 40,
      "outputs": [
        {
          "output_type": "display_data",
          "data": {
            "image/png": "[encoded data removed]",
            "text/plain": [
              "<Figure size 432x288 with 1 Axes>"
            ]
          },
          "metadata": {
            "tags": [],
            "needs_background": "light"
          }
        }
      ]
    },
    {
      "cell_type": "code",
      "metadata": {
        "id": "gEPesKhUAgtr"
      },
      "source": [
        ""
      ],
      "execution_count": null,
      "outputs": []
    },
    {
      "cell_type": "markdown",
      "metadata": {
        "id": "zjG_XXupAhQg"
      },
      "source": [
        "#Regression Example"
      ]
    },
    {
      "cell_type": "code",
      "metadata": {
        "id": "tVy9_Q6eVLYl"
      },
      "source": [
        "import pandas as pd\r\n",
        "data = pd.read_csv('https://online.stat.psu.edu/onlinecourses/sites/stat501/files/data/bluegills.txt', sep=\"\\t\", header=0)"
      ],
      "execution_count": 70,
      "outputs": []
    },
    {
      "cell_type": "code",
      "metadata": {
        "colab": {
          "base_uri": "https://localhost:8080/",
          "height": 419
        },
        "id": "H9QByASBsFP8",
        "outputId": "18aee412-a27a-4302-d20e-70d200e6e1c8"
      },
      "source": [
        "data"
      ],
      "execution_count": 71,
      "outputs": [
        {
          "output_type": "execute_result",
          "data": {
            "text/html": [
              "<div>\n",
              "<style scoped>\n",
              "    .dataframe tbody tr th:only-of-type {\n",
              "        vertical-align: middle;\n",
              "    }\n",
              "\n",
              "    .dataframe tbody tr th {\n",
              "        vertical-align: top;\n",
              "    }\n",
              "\n",
              "    .dataframe thead th {\n",
              "        text-align: right;\n",
              "    }\n",
              "</style>\n",
              "<table border=\"1\" class=\"dataframe\">\n",
              "  <thead>\n",
              "    <tr style=\"text-align: right;\">\n",
              "      <th></th>\n",
              "      <th>age</th>\n",
              "      <th>length</th>\n",
              "    </tr>\n",
              "  </thead>\n",
              "  <tbody>\n",
              "    <tr>\n",
              "      <th>0</th>\n",
              "      <td>1</td>\n",
              "      <td>67</td>\n",
              "    </tr>\n",
              "    <tr>\n",
              "      <th>1</th>\n",
              "      <td>1</td>\n",
              "      <td>62</td>\n",
              "    </tr>\n",
              "    <tr>\n",
              "      <th>2</th>\n",
              "      <td>2</td>\n",
              "      <td>109</td>\n",
              "    </tr>\n",
              "    <tr>\n",
              "      <th>3</th>\n",
              "      <td>2</td>\n",
              "      <td>83</td>\n",
              "    </tr>\n",
              "    <tr>\n",
              "      <th>4</th>\n",
              "      <td>2</td>\n",
              "      <td>91</td>\n",
              "    </tr>\n",
              "    <tr>\n",
              "      <th>...</th>\n",
              "      <td>...</td>\n",
              "      <td>...</td>\n",
              "    </tr>\n",
              "    <tr>\n",
              "      <th>73</th>\n",
              "      <td>6</td>\n",
              "      <td>170</td>\n",
              "    </tr>\n",
              "    <tr>\n",
              "      <th>74</th>\n",
              "      <td>4</td>\n",
              "      <td>160</td>\n",
              "    </tr>\n",
              "    <tr>\n",
              "      <th>75</th>\n",
              "      <td>5</td>\n",
              "      <td>180</td>\n",
              "    </tr>\n",
              "    <tr>\n",
              "      <th>76</th>\n",
              "      <td>4</td>\n",
              "      <td>160</td>\n",
              "    </tr>\n",
              "    <tr>\n",
              "      <th>77</th>\n",
              "      <td>4</td>\n",
              "      <td>170</td>\n",
              "    </tr>\n",
              "  </tbody>\n",
              "</table>\n",
              "<p>78 rows × 2 columns</p>\n",
              "</div>"
            ],
            "text/plain": [
              "    age  length\n",
              "0     1      67\n",
              "1     1      62\n",
              "2     2     109\n",
              "3     2      83\n",
              "4     2      91\n",
              "..  ...     ...\n",
              "73    6     170\n",
              "74    4     160\n",
              "75    5     180\n",
              "76    4     160\n",
              "77    4     170\n",
              "\n",
              "[78 rows x 2 columns]"
            ]
          },
          "metadata": {
            "tags": []
          },
          "execution_count": 71
        }
      ]
    },
    {
      "cell_type": "code",
      "metadata": {
        "colab": {
          "base_uri": "https://localhost:8080/",
          "height": 282
        },
        "id": "3gl-pPT8sKPQ",
        "outputId": "73842fce-babe-4a2c-b939-1842738326cb"
      },
      "source": [
        "import matplotlib.pyplot as plt\r\n",
        "plt.scatter(data['age'],data['length'])"
      ],
      "execution_count": 72,
      "outputs": [
        {
          "output_type": "execute_result",
          "data": {
            "text/plain": [
              "<matplotlib.collections.PathCollection at 0x7fb6091e7910>"
            ]
          },
          "metadata": {
            "tags": []
          },
          "execution_count": 72
        },
        {
          "output_type": "display_data",
          "data": {
            "image/png": "[encoded data removed]",
            "text/plain": [
              "<Figure size 432x288 with 1 Axes>"
            ]
          },
          "metadata": {
            "tags": [],
            "needs_background": "light"
          }
        }
      ]
    },
    {
      "cell_type": "code",
      "metadata": {
        "colab": {
          "base_uri": "https://localhost:8080/"
        },
        "id": "csPMDJROBkZ6",
        "outputId": "af2c6572-ecdc-4dc9-ec26-aad6c5740e19"
      },
      "source": [
        "data.count()"
      ],
      "execution_count": 73,
      "outputs": [
        {
          "output_type": "execute_result",
          "data": {
            "text/plain": [
              "age       78\n",
              "length    78\n",
              "dtype: int64"
            ]
          },
          "metadata": {
            "tags": []
          },
          "execution_count": 73
        }
      ]
    },
    {
      "cell_type": "code",
      "metadata": {
        "id": "71IAhk18tLCV"
      },
      "source": [
        "import sklearn\r\n",
        "import numpy as np\r\n",
        "import matplotlib.pyplot as plt\r\n",
        "from sklearn.linear_model import LinearRegression\r\n",
        "from sklearn.preprocessing import PolynomialFeatures\r\n",
        "from sklearn.pipeline import make_pipeline\r\n",
        "from sklearn.model_selection import train_test_split\r\n",
        "\r\n",
        "X = data['age']\r\n",
        "y = data['length']\r\n",
        "\r\n",
        "X_train,X_test,y_train,y_test = train_test_split(X,y,test_size=0.2,random_state=42)"
      ],
      "execution_count": 74,
      "outputs": []
    },
    {
      "cell_type": "code",
      "metadata": {
        "colab": {
          "base_uri": "https://localhost:8080/"
        },
        "id": "1oO28E2YG20t",
        "outputId": "a81cbe27-98b5-49c8-e055-10d4a8c9086f"
      },
      "source": [
        "#Trying Linear Regression \r\n",
        "lr = LinearRegression()\r\n",
        "lr.fit(X_train.values.reshape(-1,1),y_train)\r\n",
        "preds = lr.predict(X_test.values.reshape(-1,1))\r\n",
        "\r\n",
        "import numpy as np\r\n",
        "from sklearn.metrics import r2_score,mean_squared_error\r\n",
        "\r\n",
        "print(f\"r2 score is {r2_score(y_test,preds)}\") # Maximize this value (close to 0 is bad and close to 1 is the best case)\r\n",
        "print(f\"mean squared error  is {np.sqrt(mean_squared_error(y_test,preds))}\") #minimize this value ( The closer it is to 0 the better it is)"
      ],
      "execution_count": 75,
      "outputs": [
        {
          "output_type": "stream",
          "text": [
            "r2 score is 0.72063628322022\n",
            "mean squared error  is 14.446980717126275\n"
          ],
          "name": "stdout"
        }
      ]
    },
    {
      "cell_type": "code",
      "metadata": {
        "colab": {
          "base_uri": "https://localhost:8080/"
        },
        "id": "KPpH0BGqByTp",
        "outputId": "db0f4dc9-a24c-48e4-c837-a2b4f46b0659"
      },
      "source": [
        "#Trying Polynomial Regression\r\n",
        "degree=3\r\n",
        "polyreg=make_pipeline(PolynomialFeatures(degree),LinearRegression())\r\n",
        "polyreg.fit(X_train.values.reshape(-1,1),y_train)"
      ],
      "execution_count": 76,
      "outputs": [
        {
          "output_type": "execute_result",
          "data": {
            "text/plain": [
              "Pipeline(memory=None,\n",
              "         steps=[('polynomialfeatures',\n",
              "                 PolynomialFeatures(degree=3, include_bias=True,\n",
              "                                    interaction_only=False, order='C')),\n",
              "                ('linearregression',\n",
              "                 LinearRegression(copy_X=True, fit_intercept=True, n_jobs=None,\n",
              "                                  normalize=False))],\n",
              "         verbose=False)"
            ]
          },
          "metadata": {
            "tags": []
          },
          "execution_count": 76
        }
      ]
    },
    {
      "cell_type": "code",
      "metadata": {
        "id": "BnX4UiiPB_QP"
      },
      "source": [
        "y_pred = polyreg.predict(X_test.values.reshape(-1,1))"
      ],
      "execution_count": 77,
      "outputs": []
    },
    {
      "cell_type": "code",
      "metadata": {
        "colab": {
          "base_uri": "https://localhost:8080/"
        },
        "id": "aLntGY9UCiN_",
        "outputId": "318461c8-fb23-41f4-f03b-bd31ac0c7eab"
      },
      "source": [
        "import numpy as np\r\n",
        "from sklearn.metrics import r2_score,mean_squared_error\r\n",
        "\r\n",
        "print(f\"r2 score is {r2_score(y_test,y_pred)}\")\r\n",
        "print(f\"mean squared error  is {np.sqrt(mean_squared_error(y_test,y_pred))}\")"
      ],
      "execution_count": 78,
      "outputs": [
        {
          "output_type": "stream",
          "text": [
            "r2 score is 0.8044047707574331\n",
            "mean squared error  is 12.08846679576843\n"
          ],
          "name": "stdout"
        }
      ]
    },
    {
      "cell_type": "code",
      "metadata": {
        "colab": {
          "base_uri": "https://localhost:8080/",
          "height": 545
        },
        "id": "qDkq7SHPDJ_R",
        "outputId": "ee49fe03-5354-46c8-f5dd-d6ee0ed9417b"
      },
      "source": [
        "pd.DataFrame({'Actual':y_test,'Predicted':y_pred})"
      ],
      "execution_count": 79,
      "outputs": [
        {
          "output_type": "execute_result",
          "data": {
            "text/html": [
              "<div>\n",
              "<style scoped>\n",
              "    .dataframe tbody tr th:only-of-type {\n",
              "        vertical-align: middle;\n",
              "    }\n",
              "\n",
              "    .dataframe tbody tr th {\n",
              "        vertical-align: top;\n",
              "    }\n",
              "\n",
              "    .dataframe thead th {\n",
              "        text-align: right;\n",
              "    }\n",
              "</style>\n",
              "<table border=\"1\" class=\"dataframe\">\n",
              "  <thead>\n",
              "    <tr style=\"text-align: right;\">\n",
              "      <th></th>\n",
              "      <th>Actual</th>\n",
              "      <th>Predicted</th>\n",
              "    </tr>\n",
              "  </thead>\n",
              "  <tbody>\n",
              "    <tr>\n",
              "      <th>33</th>\n",
              "      <td>161</td>\n",
              "      <td>154.576194</td>\n",
              "    </tr>\n",
              "    <tr>\n",
              "      <th>0</th>\n",
              "      <td>67</td>\n",
              "      <td>60.916700</td>\n",
              "    </tr>\n",
              "    <tr>\n",
              "      <th>34</th>\n",
              "      <td>162</td>\n",
              "      <td>154.576194</td>\n",
              "    </tr>\n",
              "    <tr>\n",
              "      <th>12</th>\n",
              "      <td>131</td>\n",
              "      <td>133.922720</td>\n",
              "    </tr>\n",
              "    <tr>\n",
              "      <th>10</th>\n",
              "      <td>118</td>\n",
              "      <td>133.922720</td>\n",
              "    </tr>\n",
              "    <tr>\n",
              "      <th>77</th>\n",
              "      <td>170</td>\n",
              "      <td>154.576194</td>\n",
              "    </tr>\n",
              "    <tr>\n",
              "      <th>30</th>\n",
              "      <td>154</td>\n",
              "      <td>154.576194</td>\n",
              "    </tr>\n",
              "    <tr>\n",
              "      <th>4</th>\n",
              "      <td>91</td>\n",
              "      <td>103.336228</td>\n",
              "    </tr>\n",
              "    <tr>\n",
              "      <th>49</th>\n",
              "      <td>140</td>\n",
              "      <td>154.576194</td>\n",
              "    </tr>\n",
              "    <tr>\n",
              "      <th>66</th>\n",
              "      <td>160</td>\n",
              "      <td>167.196671</td>\n",
              "    </tr>\n",
              "    <tr>\n",
              "      <th>61</th>\n",
              "      <td>150</td>\n",
              "      <td>167.196671</td>\n",
              "    </tr>\n",
              "    <tr>\n",
              "      <th>22</th>\n",
              "      <td>145</td>\n",
              "      <td>154.576194</td>\n",
              "    </tr>\n",
              "    <tr>\n",
              "      <th>72</th>\n",
              "      <td>170</td>\n",
              "      <td>154.576194</td>\n",
              "    </tr>\n",
              "    <tr>\n",
              "      <th>54</th>\n",
              "      <td>150</td>\n",
              "      <td>133.922720</td>\n",
              "    </tr>\n",
              "    <tr>\n",
              "      <th>18</th>\n",
              "      <td>135</td>\n",
              "      <td>154.576194</td>\n",
              "    </tr>\n",
              "    <tr>\n",
              "      <th>44</th>\n",
              "      <td>150</td>\n",
              "      <td>154.576194</td>\n",
              "    </tr>\n",
              "  </tbody>\n",
              "</table>\n",
              "</div>"
            ],
            "text/plain": [
              "    Actual   Predicted\n",
              "33     161  154.576194\n",
              "0       67   60.916700\n",
              "34     162  154.576194\n",
              "12     131  133.922720\n",
              "10     118  133.922720\n",
              "77     170  154.576194\n",
              "30     154  154.576194\n",
              "4       91  103.336228\n",
              "49     140  154.576194\n",
              "66     160  167.196671\n",
              "61     150  167.196671\n",
              "22     145  154.576194\n",
              "72     170  154.576194\n",
              "54     150  133.922720\n",
              "18     135  154.576194\n",
              "44     150  154.576194"
            ]
          },
          "metadata": {
            "tags": []
          },
          "execution_count": 79
        }
      ]
    },
    {
      "cell_type": "code",
      "metadata": {
        "id": "vVT5bCVrDpDT"
      },
      "source": [
        ""
      ],
      "execution_count": null,
      "outputs": []
    }
  ]
}